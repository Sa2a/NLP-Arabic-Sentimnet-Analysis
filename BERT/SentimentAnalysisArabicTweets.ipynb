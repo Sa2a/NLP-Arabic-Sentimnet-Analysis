{
  "cells": [
    {
      "cell_type": "markdown",
      "metadata": {
        "id": "Mj5zGpnNJDAH"
      },
      "source": [
        "# Model and Tokenizer initialization"
      ]
    },
    {
      "cell_type": "code",
      "execution_count": null,
      "metadata": {
        "id": "bk0ku-y8JCYh"
      },
      "outputs": [],
      "source": [
        "%%capture\n",
        "# !pip install transformers\n",
        "from transformers import AutoTokenizer, AutoModel, AutoModelForSequenceClassification\n",
        "\n",
        "#============= Initialize Arabic Bert =============#\n",
        "tokenizer = AutoTokenizer.from_pretrained(\"asafaya/bert-base-arabic\")\n",
        "model = AutoModelForSequenceClassification.from_pretrained(\"asafaya/bert-base-arabic\", num_labels=3)"
      ]
    },
    {
      "cell_type": "markdown",
      "metadata": {
        "id": "CYs4XrvS4WL2"
      },
      "source": [
        "# Initial Data Preperation"
      ]
    },
    {
      "cell_type": "code",
      "execution_count": null,
      "metadata": {
        "colab": {
          "base_uri": "https://localhost:8080/"
        },
        "id": "4PB3PRUpITy0",
        "outputId": "f7fa838e-fe88-43c7-ab07-31d195efe4f8"
      },
      "outputs": [
        {
          "name": "stdout",
          "output_type": "stream",
          "text": [
            "Looking in indexes: https://pypi.org/simple, https://us-python.pkg.dev/colab-wheels/public/simple/\n",
            "Collecting qalsadi\n",
            "  Downloading qalsadi-0.4.5-py3-none-any.whl (256 kB)\n",
            "\u001b[K     |████████████████████████████████| 256 kB 4.9 MB/s \n",
            "\u001b[?25hCollecting naftawayh>=0.3\n",
            "  Downloading Naftawayh-0.4-py3-none-any.whl (332 kB)\n",
            "\u001b[K     |████████████████████████████████| 332 kB 71.0 MB/s \n",
            "\u001b[?25hCollecting libqutrub>=1.2.3\n",
            "  Downloading libqutrub-1.2.4.1-py3-none-any.whl (138 kB)\n",
            "\u001b[K     |████████████████████████████████| 138 kB 72.8 MB/s \n",
            "\u001b[?25hRequirement already satisfied: future>=0.16.0 in /usr/local/lib/python3.7/dist-packages (from qalsadi) (0.16.0)\n",
            "Collecting pickledb>=0.9.2\n",
            "  Downloading pickleDB-0.9.2.tar.gz (3.7 kB)\n",
            "Collecting pyarabic>=0.6.7\n",
            "  Downloading PyArabic-0.6.15-py3-none-any.whl (126 kB)\n",
            "\u001b[K     |████████████████████████████████| 126 kB 70.4 MB/s \n",
            "\u001b[?25hCollecting tashaphyne>=0.3.4.1\n",
            "  Downloading Tashaphyne-0.3.6-py3-none-any.whl (251 kB)\n",
            "\u001b[K     |████████████████████████████████| 251 kB 52.7 MB/s \n",
            "\u001b[?25hCollecting arramooz-pysqlite>=0.3\n",
            "  Downloading arramooz_pysqlite-0.3-py3-none-any.whl (9.2 MB)\n",
            "\u001b[K     |████████████████████████████████| 9.2 MB 24.2 MB/s \n",
            "\u001b[?25hCollecting Arabic-Stopwords>=0.3\n",
            "  Downloading Arabic_Stopwords-0.3-py3-none-any.whl (353 kB)\n",
            "\u001b[K     |████████████████████████████████| 353 kB 67.0 MB/s \n",
            "\u001b[?25hCollecting alyahmor>=0.1\n",
            "  Downloading alyahmor-0.1.5-py3-none-any.whl (51 kB)\n",
            "\u001b[K     |████████████████████████████████| 51 kB 600 kB/s \n",
            "\u001b[?25hRequirement already satisfied: six>=1.10.0 in /usr/local/lib/python3.7/dist-packages (from qalsadi) (1.15.0)\n",
            "Building wheels for collected packages: pickledb\n",
            "  Building wheel for pickledb (setup.py) ... \u001b[?25l\u001b[?25hdone\n",
            "  Created wheel for pickledb: filename=pickleDB-0.9.2-py3-none-any.whl size=4271 sha256=45c1a605976ccd5182becaf8968464d60313a015ed22567817c3176e24f0262d\n",
            "  Stored in directory: /root/.cache/pip/wheels/08/34/42/9a7f94099208ce3d32638d98586a5a50f821db2fc75a3bdaae\n",
            "Successfully built pickledb\n",
            "Installing collected packages: pyarabic, tashaphyne, libqutrub, arramooz-pysqlite, pickledb, naftawayh, Arabic-Stopwords, alyahmor, qalsadi\n",
            "Successfully installed Arabic-Stopwords-0.3 alyahmor-0.1.5 arramooz-pysqlite-0.3 libqutrub-1.2.4.1 naftawayh-0.4 pickledb-0.9.2 pyarabic-0.6.15 qalsadi-0.4.5 tashaphyne-0.3.6\n"
          ]
        }
      ],
      "source": [
        "pip install qalsadi"
      ]
    },
    {
      "cell_type": "code",
      "execution_count": null,
      "metadata": {
        "colab": {
          "base_uri": "https://localhost:8080/"
        },
        "id": "XEAYbjZnR2je",
        "outputId": "199cd82a-d66c-4bd9-e98b-6d7675c546b0"
      },
      "outputs": [
        {
          "name": "stdout",
          "output_type": "stream",
          "text": [
            "Stored 'tokenizer' (BertTokenizerFast)\n",
            "Stored 'model' (BertForSequenceClassification)\n"
          ]
        }
      ],
      "source": [
        "%store tokenizer\n",
        "%store model"
      ]
    },
    {
      "cell_type": "code",
      "execution_count": null,
      "metadata": {
        "colab": {
          "base_uri": "https://localhost:8080/"
        },
        "id": "fOFtulztZb9U",
        "outputId": "2e09b467-71ba-4904-cc1b-0b4cb1d1373f"
      },
      "outputs": [
        {
          "name": "stdout",
          "output_type": "stream",
          "text": [
            "no stored variable tokenizer\n",
            "no stored variable model\n"
          ]
        }
      ],
      "source": [
        "%store -r tokenizer\n",
        "%store -r model"
      ]
    },
    {
      "cell_type": "code",
      "execution_count": null,
      "metadata": {
        "colab": {
          "base_uri": "https://localhost:8080/"
        },
        "id": "A1t3hUZCRdVY",
        "outputId": "b3daeae2-8696-4988-d0bc-16c04d86e429"
      },
      "outputs": [
        {
          "name": "stdout",
          "output_type": "stream",
          "text": [
            "Drive already mounted at /content/drive; to attempt to forcibly remount, call drive.mount(\"/content/drive\", force_remount=True).\n"
          ]
        }
      ],
      "source": [
        "from google.colab import drive\n",
        "drive.mount('/content/drive')"
      ]
    },
    {
      "cell_type": "code",
      "execution_count": null,
      "metadata": {
        "colab": {
          "base_uri": "https://localhost:8080/"
        },
        "id": "4gH97C8ALPLV",
        "outputId": "422c3874-fff9-4aff-8a5d-303f77c2c07b"
      },
      "outputs": [
        {
          "name": "stderr",
          "output_type": "stream",
          "text": [
            "[nltk_data] Downloading package stopwords to /root/nltk_data...\n",
            "[nltk_data]   Unzipping corpora/stopwords.zip.\n"
          ]
        },
        {
          "data": {
            "text/plain": [
              "True"
            ]
          },
          "execution_count": 4,
          "metadata": {},
          "output_type": "execute_result"
        }
      ],
      "source": [
        "import nltk\n",
        "from nltk.corpus import stopwords\n",
        "nltk.download('stopwords')\n",
        "# stopwords.words('arabic')"
      ]
    },
    {
      "cell_type": "code",
      "execution_count": 2,
      "metadata": {
        "colab": {
          "base_uri": "https://localhost:8080/",
          "height": 390
        },
        "id": "fgwOaTnBoQ-q",
        "outputId": "9944722b-5f06-4d19-97f8-5374fa3cf6fd"
      },
      "outputs": [
        {
          "data": {
            "text/html": [
              "<div>\n",
              "<style scoped>\n",
              "    .dataframe tbody tr th:only-of-type {\n",
              "        vertical-align: middle;\n",
              "    }\n",
              "\n",
              "    .dataframe tbody tr th {\n",
              "        vertical-align: top;\n",
              "    }\n",
              "\n",
              "    .dataframe thead th {\n",
              "        text-align: right;\n",
              "    }\n",
              "</style>\n",
              "<table border=\"1\" class=\"dataframe\">\n",
              "  <thead>\n",
              "    <tr style=\"text-align: right;\">\n",
              "      <th></th>\n",
              "      <th>tweet</th>\n",
              "      <th>class</th>\n",
              "    </tr>\n",
              "  </thead>\n",
              "  <tbody>\n",
              "    <tr>\n",
              "      <th>0</th>\n",
              "      <td>' #علمتني_الحياه أن الذين يعيشون على الأرض ليس...</td>\n",
              "      <td>pos</td>\n",
              "    </tr>\n",
              "    <tr>\n",
              "      <th>1</th>\n",
              "      <td>' #ميري_كرسمس كل سنة وانتم طيبين http://t.co/n...</td>\n",
              "      <td>pos</td>\n",
              "    </tr>\n",
              "    <tr>\n",
              "      <th>2</th>\n",
              "      <td>' و انتهى مشوار الخواجة '</td>\n",
              "      <td>neg</td>\n",
              "    </tr>\n",
              "    <tr>\n",
              "      <th>3</th>\n",
              "      <td>' مش عارف ابتدى مذاكره منين :/ '</td>\n",
              "      <td>neg</td>\n",
              "    </tr>\n",
              "    <tr>\n",
              "      <th>4</th>\n",
              "      <td>' @mskhafagi  إختصروا الطريق بدلا من إختيار ال...</td>\n",
              "      <td>neg</td>\n",
              "    </tr>\n",
              "    <tr>\n",
              "      <th>5</th>\n",
              "      <td>' إذ خانت المرأة فهي تبحث عن الإهتمام .. و إذ ...</td>\n",
              "      <td>neg</td>\n",
              "    </tr>\n",
              "    <tr>\n",
              "      <th>6</th>\n",
              "      <td>' يا حبيبتي البعد ناار قلبي داب من الانتظار ♡ '</td>\n",
              "      <td>pos</td>\n",
              "    </tr>\n",
              "    <tr>\n",
              "      <th>7</th>\n",
              "      <td>' \"\"\"يا سامحك الله، من علّمك أن تكون خيبة؟\"\"\"\" '</td>\n",
              "      <td>neg</td>\n",
              "    </tr>\n",
              "    <tr>\n",
              "      <th>8</th>\n",
              "      <td>' خى مالها قفلت من كل حتة كده لييه ! '</td>\n",
              "      <td>neg</td>\n",
              "    </tr>\n",
              "    <tr>\n",
              "      <th>9</th>\n",
              "      <td>' الناس اللى حضرت حفلات البرلمان القديم ياريت ...</td>\n",
              "      <td>neg</td>\n",
              "    </tr>\n",
              "  </tbody>\n",
              "</table>\n",
              "</div>"
            ],
            "text/plain": [
              "                                               tweet class\n",
              "0  ' #علمتني_الحياه أن الذين يعيشون على الأرض ليس...   pos\n",
              "1  ' #ميري_كرسمس كل سنة وانتم طيبين http://t.co/n...   pos\n",
              "2                          ' و انتهى مشوار الخواجة '   neg\n",
              "3                   ' مش عارف ابتدى مذاكره منين :/ '   neg\n",
              "4  ' @mskhafagi  إختصروا الطريق بدلا من إختيار ال...   neg\n",
              "5  ' إذ خانت المرأة فهي تبحث عن الإهتمام .. و إذ ...   neg\n",
              "6    ' يا حبيبتي البعد ناار قلبي داب من الانتظار ♡ '   pos\n",
              "7   ' \"\"\"يا سامحك الله، من علّمك أن تكون خيبة؟\"\"\"\" '   neg\n",
              "8             ' خى مالها قفلت من كل حتة كده لييه ! '   neg\n",
              "9  ' الناس اللى حضرت حفلات البرلمان القديم ياريت ...   neg"
            ]
          },
          "execution_count": 2,
          "metadata": {},
          "output_type": "execute_result"
        }
      ],
      "source": [
        "import numpy as np\n",
        "import pandas as pd\n",
        "import re\n",
        "import qalsadi.lemmatizer\n",
        "# lemmer = qalsadi.lemmatizer.Lemmatizer()\n",
        "#============= Read CSV and apply data preperation =============#\n",
        "directory = \"D:/DEBI/Uottawa/Data Science Applications/kaggle/\"\n",
        "\n",
        "data_frame = pd.read_csv(directory+\"/train.csv\")\n",
        "data_frame.head(10)"
      ]
    },
    {
      "cell_type": "code",
      "execution_count": null,
      "metadata": {
        "colab": {
          "base_uri": "https://localhost:8080/"
        },
        "id": "IkND0STBy0rz",
        "outputId": "30f3c995-6038-4e2b-f28a-ac506eafe192"
      },
      "outputs": [
        {
          "data": {
            "text/plain": [
              "(2059, 2)"
            ]
          },
          "execution_count": 7,
          "metadata": {},
          "output_type": "execute_result"
        }
      ],
      "source": [
        "data_frame.shape"
      ]
    },
    {
      "cell_type": "code",
      "execution_count": null,
      "metadata": {
        "id": "NJ_jnkbPK15D"
      },
      "outputs": [],
      "source": [
        "def lem_stopwords_tokenize2(text):\n",
        "  lemmas = lemmer.lemmatize_text(text , return_pos=True)\n",
        "  stop_words = set(stopwords.words('arabic'))\n",
        "  clean_words=\"\"\n",
        "  for word_tupel in lemmas:\n",
        "    # print(word_tupel[1])\n",
        "    if word_tupel[1] != \"stopword\" or (word_tupel[0] not in stop_words):\n",
        "      clean_words+=word_tupel[0]+\" \"\n",
        "  # clean_words.append('[SEP]') \n",
        "  return clean_words[:-1]"
      ]
    },
    {
      "cell_type": "code",
      "execution_count": null,
      "metadata": {
        "id": "0ghYzTIQWPSz"
      },
      "outputs": [],
      "source": [
        "def lem_stopwords_tokenize(text):\n",
        "  lemmas = lemmer.lemmatize_text(text , return_pos=True)\n",
        "  # stop_words = set(stopwords.words('arabic'))\n",
        "  clean_words=\"\"\n",
        "  for word_tupel in lemmas:\n",
        "    # print(word_tupel[1])\n",
        "    # if word_tupel[1] != \"stopword\" or (word_tupel[0] not in stop_words):\n",
        "    clean_words+=word_tupel[0]+\" \"\n",
        "  # clean_words.append('[SEP]') \n",
        "  return clean_words[:-1]"
      ]
    },
    {
      "cell_type": "code",
      "execution_count": null,
      "metadata": {
        "colab": {
          "base_uri": "https://localhost:8080/"
        },
        "id": "XcbAGx8sMzW6",
        "outputId": "639ff049-f572-48d0-dbee-4e610e69330b"
      },
      "outputs": [
        {
          "name": "stdout",
          "output_type": "stream",
          "text": [
            "جاامد اللهم اللللله حلل علمتني_الحياه أن الذين أعاش على أرض ليسوا ملائك بل بشر قد أصاب قد أخطأ لا جاز أن حكم على شخص من موقف واحد تعامل مع في\n"
          ]
        }
      ],
      "source": [
        "text = 'جاامد اللهم اللللله  حللو علمتني_الحياه أن الذين يعيشون على الأرض ليسوا ملائكة بل بشر قد يصيبوا وقد يخطئوا فلا يجوز أن أحكم على شخص من موقف واحد تعاملت معه فيه'\n",
        "x= lem_stopwords_tokenize(text)\n",
        "print(x)"
      ]
    },
    {
      "cell_type": "code",
      "execution_count": null,
      "metadata": {
        "colab": {
          "base_uri": "https://localhost:8080/"
        },
        "id": "aHhRdowJaiE6",
        "outputId": "dc59846d-5863-4903-ac0f-b0216e448609"
      },
      "outputs": [
        {
          "name": "stdout",
          "output_type": "stream",
          "text": [
            "['[CLS]', 'علمت', '##ني', '_', 'الحياه', 'ان', 'الذين', 'يعيشون', 'على', 'الارض', 'ليسوا', '[SEP]']\n"
          ]
        },
        {
          "data": {
            "text/plain": [
              "['[CLS]',\n",
              " 'علمت',\n",
              " '_',\n",
              " 'الحياه',\n",
              " 'ان',\n",
              " 'الذين',\n",
              " 'يعيشون',\n",
              " 'على',\n",
              " 'الارض',\n",
              " 'ليسوا',\n",
              " '[SEP]']"
            ]
          },
          "execution_count": 8,
          "metadata": {},
          "output_type": "execute_result"
        }
      ],
      "source": [
        "# payload['text'] = \"علمتني_الحياه أن الذين يعيشون على الأرض ليسوا\"\n",
        "# data = requests.post(url, data=payload)\n",
        "# print(data.text)\n",
        "# result = json.loads(data.text)\n",
        "# print(result) \n",
        "tokens = tokenizer(\"علمتني_الحياه أن الذين يعيشون على الأرض ليسوا\").tokens()\n",
        "print(tokens)\n",
        "t = list(filter(lambda x: \"#\" not in x,tokens))\n",
        "t"
      ]
    },
    {
      "cell_type": "code",
      "execution_count": 7,
      "metadata": {
        "id": "ADzCXR_03zNY"
      },
      "outputs": [
        {
          "name": "stderr",
          "output_type": "stream",
          "text": [
            "c:\\Users\\river\\AppData\\Local\\Programs\\Python\\Python39\\lib\\site-packages\\tqdm\\auto.py:22: TqdmWarning: IProgress not found. Please update jupyter and ipywidgets. See https://ipywidgets.readthedocs.io/en/stable/user_install.html\n",
            "  from .autonotebook import tqdm as notebook_tqdm\n",
            "None of PyTorch, TensorFlow >= 2.0, or Flax have been found. Models won't be available and only tokenizers, configuration and file/data utilities can be used.\n"
          ]
        }
      ],
      "source": [
        "# import dataclasses\n",
        "# import numpy as np\n",
        "# import pandas as pd\n",
        "# import re\n",
        "\n",
        "# #============= Read CSV and apply data preperation =============#\n",
        "# df = pd.read_csv(\"/content/drive/MyDrive/DEBI/uottawa/Ds applications/kaggle competition/train.csv\")\n",
        "\n",
        "# # clean-up: remove #tags, http links and special symbols\n",
        "# \n",
        "# df.iloc[:,0] = df.iloc[:,0].apply(lambda x: re.sub(r'http\\S+', '', x))\n",
        "# df.iloc[:,0] = df.iloc[:,0].apply(lambda x: re.sub(r'[@|#]\\S*', '', x))\n",
        "# df.iloc[:,0] = df.iloc[:,0].apply(lambda x: re.sub(r'\"+', '', x))\n",
        "\n",
        "# # Remove arabic signs\n",
        "# df.iloc[:,0] = df.iloc[:,0].apply(lambda x: re.sub(r'([@A-Za-z0-9_ـــــــــــــ]+)|[^\\w\\s]|#|http\\S+', '', x))\n",
        "\n",
        "# # Remove repeated letters like \"الللللللللللللللله\" to \"الله\"\n",
        "# df.iloc[:,0] = df.iloc[:,0].apply(lambda x: x[0:2] + ''.join([x[i] for i in range(2, len(x)) if x[i]!=x[i-1] or x[i]!=x[i-2]]))\n",
        "\n",
        "# # Tokenize the sentences using bert tokenizer\n",
        "from transformers import AutoTokenizer, AutoModel, AutoModelForSequenceClassification\n",
        "\n",
        "tokenizer = AutoTokenizer.from_pretrained(directory+\"araBERT/araBERT_tokenizer\")\n",
        "general_filter = lambda x: re.sub(r'([@A-Za-z0-9ـــــــــــــ]+)|[^\\w\\s]|#|http\\S+|[\\s]{2,}', '', x)\n",
        "rem_repeated_letters = lambda x: x[0:2] + ''.join([x[i] for i in range(2, len(x)) if x[i]!=x[i-1] or x[i]!=x[i-2]])\n",
        "heart_emotion_translate = lambda x: re.sub(r'[♥|❤️|❤|♡]+', 'قلب', x)\n",
        "happy_emotion_translate = lambda x: re.sub(r'(\\^[._]?\\^)+', 'سعيد', x)\n",
        "sad_emotion_translate = lambda x: re.sub(r'(-[._]?-)+', 'حزين', x)\n",
        "\n",
        "def pre_process(data_frame):\n",
        "  data_frame_x = data_frame.copy()\n",
        "  # data_frame_x.tweet = data_frame_x.tweet.apply(lambda x: x[2:-2]).apply(heart_emotion_translate).apply(happy_emotion_translate).apply(sad_emotion_translate).apply(general_filter).apply(rem_repeated_letters).apply(lem_stopwords_tokenize)\n",
        "\n",
        "  data_frame_x[\"bert_tokens\"] = data_frame_x.tweet.apply(lambda x:tokenizer(x).tokens())# list(filter(lambda x: \"#\" not in x, tokenizer(x).tokens())))\n",
        "  return data_frame_x"
      ]
    },
    {
      "cell_type": "code",
      "execution_count": null,
      "metadata": {
        "colab": {
          "base_uri": "https://localhost:8080/",
          "height": 35
        },
        "id": "hH0v5PJ8R8L7",
        "outputId": "7af27940-a5c6-4ac8-c117-a84ff735c34a"
      },
      "outputs": [
        {
          "data": {
            "application/vnd.google.colaboratory.intrinsic+json": {
              "type": "string"
            },
            "text/plain": [
              "'علمتني_الحياه أعاش أرض ملاء بشر صابي خطأ جاز'"
            ]
          },
          "execution_count": 10,
          "metadata": {},
          "output_type": "execute_result"
        }
      ],
      "source": [
        "\n",
        "st = lem_stopwords_tokenize(\"علمتني_الحياه أعاش أرض ملائك بشر أصاب أخطأ جاز\")\n",
        "st"
      ]
    },
    {
      "cell_type": "code",
      "execution_count": 8,
      "metadata": {
        "colab": {
          "base_uri": "https://localhost:8080/",
          "height": 206
        },
        "id": "6ZE6_LUaGDNq",
        "outputId": "cc8e07de-e057-44af-a245-2846a306788a"
      },
      "outputs": [
        {
          "data": {
            "text/html": [
              "<div>\n",
              "<style scoped>\n",
              "    .dataframe tbody tr th:only-of-type {\n",
              "        vertical-align: middle;\n",
              "    }\n",
              "\n",
              "    .dataframe tbody tr th {\n",
              "        vertical-align: top;\n",
              "    }\n",
              "\n",
              "    .dataframe thead th {\n",
              "        text-align: right;\n",
              "    }\n",
              "</style>\n",
              "<table border=\"1\" class=\"dataframe\">\n",
              "  <thead>\n",
              "    <tr style=\"text-align: right;\">\n",
              "      <th></th>\n",
              "      <th>tweet</th>\n",
              "      <th>class</th>\n",
              "      <th>bert_tokens</th>\n",
              "    </tr>\n",
              "  </thead>\n",
              "  <tbody>\n",
              "    <tr>\n",
              "      <th>0</th>\n",
              "      <td>' #علمتني_الحياه أن الذين يعيشون على الأرض ليس...</td>\n",
              "      <td>pos</td>\n",
              "      <td>[[CLS], ', #, علمتني, _, الح, ##يا, ##ه, أن, ا...</td>\n",
              "    </tr>\n",
              "    <tr>\n",
              "      <th>1</th>\n",
              "      <td>' #ميري_كرسمس كل سنة وانتم طيبين http://t.co/n...</td>\n",
              "      <td>pos</td>\n",
              "      <td>[[CLS], ', #, ميري, _, كرس, ##مس, كل, سن, ##ة,...</td>\n",
              "    </tr>\n",
              "    <tr>\n",
              "      <th>2</th>\n",
              "      <td>' و انتهى مشوار الخواجة '</td>\n",
              "      <td>neg</td>\n",
              "      <td>[[CLS], ', و, انتهى, مشوار, الخ, ##واج, ##ة, '...</td>\n",
              "    </tr>\n",
              "    <tr>\n",
              "      <th>3</th>\n",
              "      <td>' مش عارف ابتدى مذاكره منين :/ '</td>\n",
              "      <td>neg</td>\n",
              "      <td>[[CLS], ', مش, عارف, ابتد, ##ى, مذاكر, ##ه, من...</td>\n",
              "    </tr>\n",
              "    <tr>\n",
              "      <th>4</th>\n",
              "      <td>' @mskhafagi  إختصروا الطريق بدلا من إختيار ال...</td>\n",
              "      <td>neg</td>\n",
              "      <td>[[CLS], ', @, m, ##sk, ##ha, ##fa, ##g, ##i, إ...</td>\n",
              "    </tr>\n",
              "  </tbody>\n",
              "</table>\n",
              "</div>"
            ],
            "text/plain": [
              "                                               tweet class  \\\n",
              "0  ' #علمتني_الحياه أن الذين يعيشون على الأرض ليس...   pos   \n",
              "1  ' #ميري_كرسمس كل سنة وانتم طيبين http://t.co/n...   pos   \n",
              "2                          ' و انتهى مشوار الخواجة '   neg   \n",
              "3                   ' مش عارف ابتدى مذاكره منين :/ '   neg   \n",
              "4  ' @mskhafagi  إختصروا الطريق بدلا من إختيار ال...   neg   \n",
              "\n",
              "                                         bert_tokens  \n",
              "0  [[CLS], ', #, علمتني, _, الح, ##يا, ##ه, أن, ا...  \n",
              "1  [[CLS], ', #, ميري, _, كرس, ##مس, كل, سن, ##ة,...  \n",
              "2  [[CLS], ', و, انتهى, مشوار, الخ, ##واج, ##ة, '...  \n",
              "3  [[CLS], ', مش, عارف, ابتد, ##ى, مذاكر, ##ه, من...  \n",
              "4  [[CLS], ', @, m, ##sk, ##ha, ##fa, ##g, ##i, إ...  "
            ]
          },
          "execution_count": 8,
          "metadata": {},
          "output_type": "execute_result"
        }
      ],
      "source": [
        "df = pre_process(data_frame)\n",
        "df.head()"
      ]
    },
    {
      "cell_type": "code",
      "execution_count": null,
      "metadata": {
        "id": "MCEQ5c7JIZT3"
      },
      "outputs": [],
      "source": [
        "import fasttext\n",
        "import pandas as pd\n",
        "df = pd.read_csv(\"/content/drive/MyDrive/DEBI/uottawa/Ds applications/kaggle competition/train.csv\")\n",
        "df.iloc[\"fasttext\"] = dataset.iloc[:, 1].apply(lambda x: '__label__' + x)\n",
        "ds.iloc[:, 1] = ds.iloc[:, 1].apply(lambda x: '__label__' + x)\n",
        "# Skipgram model :\n",
        "model = fasttext.train_unsupervised(df.tweet, model='skipgram')\n",
        "\n",
        "# or, cbow model :\n",
        "model = fasttext.train_unsupervised(df.tweet, model='cbow')\n"
      ]
    },
    {
      "cell_type": "code",
      "execution_count": 9,
      "metadata": {
        "id": "ilItbiZ61hGT"
      },
      "outputs": [],
      "source": [
        "from sklearn import preprocessing\n",
        "\n",
        "bert_tokens = df[\"bert_tokens\"]\n",
        "labels = df[\"class\"]\n",
        "\n",
        "# Apply label encoding over the labels\n",
        "le = preprocessing.LabelEncoder()\n",
        "Encodedlabels =le.fit_transform(labels)"
      ]
    },
    {
      "cell_type": "code",
      "execution_count": 10,
      "metadata": {
        "colab": {
          "base_uri": "https://localhost:8080/"
        },
        "id": "jFwzO7StaXT0",
        "outputId": "018df562-f8e5-4381-d087-7ddcce686a22"
      },
      "outputs": [
        {
          "data": {
            "text/plain": [
              "array([2, 2, 0, ..., 2, 0, 1])"
            ]
          },
          "execution_count": 10,
          "metadata": {},
          "output_type": "execute_result"
        }
      ],
      "source": [
        "Encodedlabels\n"
      ]
    },
    {
      "cell_type": "markdown",
      "metadata": {
        "id": "GO6bLSh2I5GL"
      },
      "source": [
        "# Padding and attention mask"
      ]
    },
    {
      "cell_type": "code",
      "execution_count": 11,
      "metadata": {
        "id": "onXUUeTK1Q4i"
      },
      "outputs": [
        {
          "ename": "ModuleNotFoundError",
          "evalue": "No module named 'keras'",
          "output_type": "error",
          "traceback": [
            "\u001b[1;31m---------------------------------------------------------------------------\u001b[0m",
            "\u001b[1;31mModuleNotFoundError\u001b[0m                       Traceback (most recent call last)",
            "\u001b[1;32md:\\DEBI\\Uottawa\\Data Science Applications\\kaggle\\BERT\\Copy_of_SentimentAnalysisArabicTweets.ipynb Cell 22\u001b[0m in \u001b[0;36m<cell line: 1>\u001b[1;34m()\u001b[0m\n\u001b[1;32m----> <a href='vscode-notebook-cell:/d%3A/DEBI/Uottawa/Data%20Science%20Applications/kaggle/BERT/Copy_of_SentimentAnalysisArabicTweets.ipynb#ch0000021?line=0'>1</a>\u001b[0m \u001b[39mfrom\u001b[39;00m \u001b[39mkeras\u001b[39;00m\u001b[39m.\u001b[39;00m\u001b[39mpreprocessing\u001b[39;00m\u001b[39m.\u001b[39;00m\u001b[39msequence\u001b[39;00m \u001b[39mimport\u001b[39;00m pad_sequences\n\u001b[0;32m      <a href='vscode-notebook-cell:/d%3A/DEBI/Uottawa/Data%20Science%20Applications/kaggle/BERT/Copy_of_SentimentAnalysisArabicTweets.ipynb#ch0000021?line=2'>3</a>\u001b[0m \u001b[39m# Set the maximum sequence length. The longest sequence in our training set is 47, but we'll leave room on the end anyway. \u001b[39;00m\n\u001b[0;32m      <a href='vscode-notebook-cell:/d%3A/DEBI/Uottawa/Data%20Science%20Applications/kaggle/BERT/Copy_of_SentimentAnalysisArabicTweets.ipynb#ch0000021?line=3'>4</a>\u001b[0m \u001b[39m# In the original paper, the authors used a length of 512.\u001b[39;00m\n\u001b[0;32m      <a href='vscode-notebook-cell:/d%3A/DEBI/Uottawa/Data%20Science%20Applications/kaggle/BERT/Copy_of_SentimentAnalysisArabicTweets.ipynb#ch0000021?line=4'>5</a>\u001b[0m MAX_LEN \u001b[39m=\u001b[39m \u001b[39m128\u001b[39m\n",
            "\u001b[1;31mModuleNotFoundError\u001b[0m: No module named 'keras'"
          ]
        }
      ],
      "source": [
        "from keras.preprocessing.sequence import pad_sequences\n",
        "\n",
        "# Set the maximum sequence length. The longest sequence in our training set is 47, but we'll leave room on the end anyway. \n",
        "# In the original paper, the authors used a length of 512.\n",
        "MAX_LEN = 128\n",
        "# Use the BERT tokenizer to convert the tokens to their index numbers in the BERT vocabulary\n",
        "input_ids = [tokenizer.convert_tokens_to_ids(x) for x in bert_tokens]\n",
        "# Pad our input tokens\n",
        "input_ids = pad_sequences(input_ids, maxlen=MAX_LEN, dtype=\"long\", truncating=\"post\", padding=\"post\")\n",
        "# Create attention masks\n",
        "attention_masks = []\n",
        "\n",
        "# Create a mask of 1s for each token followed by 0s for padding\n",
        "for seq in input_ids:\n",
        "  seq_mask = [float(i>0) for i in seq]\n",
        "  attention_masks.append(seq_mask)"
      ]
    },
    {
      "cell_type": "code",
      "execution_count": null,
      "metadata": {
        "colab": {
          "base_uri": "https://localhost:8080/"
        },
        "id": "l-tjO1PLbPQh",
        "outputId": "67f6593b-0af8-42c3-bc7a-46a0c986ec65"
      },
      "outputs": [
        {
          "name": "stdout",
          "output_type": "stream",
          "text": [
            "[    2 11574  1857    41 22915  1732  2481  1903  2075  1747  3648 17676\n",
            "  6864  2164  2000  4821  2048  7824  2048 20818  1783  7605  1732  3925\n",
            "  1747  2594  1726  5199  2807 11837  1776  1725     3     0     0     0\n",
            "     0     0     0     0     0     0     0     0     0     0     0     0\n",
            "     0     0     0     0     0     0     0     0     0     0     0     0\n",
            "     0     0     0     0     0     0     0     0     0     0     0     0\n",
            "     0     0     0     0     0     0     0     0     0     0     0     0\n",
            "     0     0     0     0     0     0     0     0     0     0     0     0\n",
            "     0     0     0     0     0     0     0     0     0     0     0     0\n",
            "     0     0     0     0     0     0     0     0     0     0     0     0\n",
            "     0     0     0     0     0     0     0     0]\n",
            "[1.0, 1.0, 1.0, 1.0, 1.0, 1.0, 1.0, 1.0, 1.0, 1.0, 1.0, 1.0, 1.0, 1.0, 1.0, 1.0, 1.0, 1.0, 1.0, 1.0, 1.0, 1.0, 1.0, 1.0, 1.0, 1.0, 1.0, 1.0, 1.0, 1.0, 1.0, 1.0, 1.0, 0.0, 0.0, 0.0, 0.0, 0.0, 0.0, 0.0, 0.0, 0.0, 0.0, 0.0, 0.0, 0.0, 0.0, 0.0, 0.0, 0.0, 0.0, 0.0, 0.0, 0.0, 0.0, 0.0, 0.0, 0.0, 0.0, 0.0, 0.0, 0.0, 0.0, 0.0, 0.0, 0.0, 0.0, 0.0, 0.0, 0.0, 0.0, 0.0, 0.0, 0.0, 0.0, 0.0, 0.0, 0.0, 0.0, 0.0, 0.0, 0.0, 0.0, 0.0, 0.0, 0.0, 0.0, 0.0, 0.0, 0.0, 0.0, 0.0, 0.0, 0.0, 0.0, 0.0, 0.0, 0.0, 0.0, 0.0, 0.0, 0.0, 0.0, 0.0, 0.0, 0.0, 0.0, 0.0, 0.0, 0.0, 0.0, 0.0, 0.0, 0.0, 0.0, 0.0, 0.0, 0.0, 0.0, 0.0, 0.0, 0.0, 0.0, 0.0, 0.0, 0.0, 0.0, 0.0]\n"
          ]
        }
      ],
      "source": [
        "print(input_ids[0])\n",
        "print(attention_masks[0])"
      ]
    },
    {
      "cell_type": "markdown",
      "metadata": {
        "id": "Q72BkkMNI3aW"
      },
      "source": [
        "# To tensors"
      ]
    },
    {
      "cell_type": "code",
      "execution_count": null,
      "metadata": {
        "id": "xxIrSSWV2DDP"
      },
      "outputs": [],
      "source": [
        "import tensorflow as tf\n",
        "import torch\n",
        "from torch.utils.data import TensorDataset, DataLoader\n",
        "from sklearn.model_selection import train_test_split\n",
        "\n",
        "# Use train_test_split to split our data into train and validation sets for training\n",
        "train_inputs, validation_inputs, train_labels, validation_labels = train_test_split(input_ids, Encodedlabels, \n",
        "                                                            random_state=2018, test_size=0.08)\n",
        "train_masks, validation_masks, _, _ = train_test_split(attention_masks, input_ids,\n",
        "                                             random_state=2018, test_size=0.08)\n",
        "# Convert all of our data into torch tensors, the required datatype for our model\n",
        "\n",
        "train_inputs = torch.tensor(train_inputs)\n",
        "validation_inputs = torch.tensor(validation_inputs)\n",
        "train_labels = torch.tensor(train_labels)\n",
        "validation_labels = torch.tensor(validation_labels)\n",
        "train_masks = torch.tensor(train_masks)\n",
        "validation_masks = torch.tensor(validation_masks)\n",
        "# Select a batch size for training. For fine-tuning BERT on a specific task, the authors recommend a batch size of 16 or 32\n",
        "batch_size = 16\n",
        "\n",
        "# Create an iterator of our data with torch DataLoader. This helps save on memory during training because, unlike a for loop, \n",
        "# with an iterator the entire dataset does not need to be loaded into memory\n",
        "\n",
        "train_data = TensorDataset(train_inputs, train_masks, train_labels)\n",
        "train_dataloader = DataLoader(train_data, batch_size=batch_size, shuffle=True)\n",
        "\n",
        "validation_data = TensorDataset(validation_inputs, validation_masks, validation_labels)\n",
        "validation_dataloader = DataLoader(validation_data, batch_size=batch_size)"
      ]
    },
    {
      "cell_type": "code",
      "execution_count": null,
      "metadata": {
        "colab": {
          "base_uri": "https://localhost:8080/"
        },
        "id": "IXT5AmKLbyZR",
        "outputId": "6aa66faf-2350-4d07-ccfb-a8678081b3b0"
      },
      "outputs": [
        {
          "name": "stdout",
          "output_type": "stream",
          "text": [
            "[tensor([[    2, 24192, 27275,  ...,     0,     0,     0],\n",
            "        [    2,  7153,  6058,  ...,     0,     0,     0],\n",
            "        [    2,    41,  1882,  ...,     0,     0,     0],\n",
            "        ...,\n",
            "        [    2,  3947,  7881,  ...,     0,     0,     0],\n",
            "        [    2,  1882,  2091,  ...,     0,     0,     0],\n",
            "        [    2,  2300, 14684,  ...,     0,     0,     0]]), tensor([[1., 1., 1.,  ..., 0., 0., 0.],\n",
            "        [1., 1., 1.,  ..., 0., 0., 0.],\n",
            "        [1., 1., 1.,  ..., 0., 0., 0.],\n",
            "        ...,\n",
            "        [1., 1., 1.,  ..., 0., 0., 0.],\n",
            "        [1., 1., 1.,  ..., 0., 0., 0.],\n",
            "        [1., 1., 1.,  ..., 0., 0., 0.]]), tensor([0, 1, 2, 1, 0, 1, 0, 2, 1, 2, 0, 0, 0, 2, 2, 0])]\n"
          ]
        }
      ],
      "source": [
        "for batch in train_dataloader:\n",
        "  print(batch)\n",
        "  break"
      ]
    },
    {
      "cell_type": "markdown",
      "metadata": {
        "id": "Ao7E_9NgI0yg"
      },
      "source": [
        "# Set optimizer parameters"
      ]
    },
    {
      "cell_type": "code",
      "execution_count": null,
      "metadata": {
        "id": "CBOHOHQn3CJj"
      },
      "outputs": [],
      "source": [
        "import torch.optim as optim\n",
        "\n",
        "param_optimizer = list(model.named_parameters())\n",
        "no_decay = ['bias', 'gamma', 'beta']\n",
        "optimizer_grouped_parameters = [{'params': [p for n, p in param_optimizer if not any(nd in n for nd in no_decay)],'weight_decay_rate': 0.01},\n",
        "                                {'params': [p for n, p in param_optimizer if any(nd in n for nd in no_decay)],'weight_decay_rate': 0.0}]\n",
        "# This variable contains all of the hyperparemeter information our training loop needs\n",
        "#optimizer = BertAdam(optimizer_grouped_parameters,lr=2e-5,warmup=.1)\n",
        "optimizer = optim.AdamW(optimizer_grouped_parameters,lr=2e-5)"
      ]
    },
    {
      "cell_type": "code",
      "execution_count": null,
      "metadata": {
        "id": "NmyUEzpf7e-C"
      },
      "outputs": [],
      "source": [
        "# loss = model(train_data[:1][0], attention_mask=train_data[:1][1], labels=train_data[:1][2])\n",
        "# loss = model(b_input_ids, token_type_ids=None, attention_mask=b_input_mask, labels=b_labels)\n",
        "# loss"
      ]
    },
    {
      "cell_type": "markdown",
      "metadata": {
        "id": "Kg_r0FF_IzfA"
      },
      "source": [
        "# Training"
      ]
    },
    {
      "cell_type": "code",
      "execution_count": null,
      "metadata": {
        "colab": {
          "base_uri": "https://localhost:8080/"
        },
        "id": "vDUxsUyL3Lmy",
        "outputId": "83548781-8bda-434a-a8cc-892773532943"
      },
      "outputs": [
        {
          "name": "stderr",
          "output_type": "stream",
          "text": [
            "\rEpoch:   0%|          | 0/10 [00:00<?, ?it/s]"
          ]
        },
        {
          "name": "stdout",
          "output_type": "stream",
          "text": [
            "Train loss: 0.9255277509448909\n"
          ]
        },
        {
          "name": "stderr",
          "output_type": "stream",
          "text": [
            "\rEpoch:  10%|█         | 1/10 [00:38<05:45, 38.44s/it]"
          ]
        },
        {
          "name": "stdout",
          "output_type": "stream",
          "text": [
            "Validation Accuracy: 0.5886363636363636\n",
            "Train loss: 0.6446525204081496\n"
          ]
        },
        {
          "name": "stderr",
          "output_type": "stream",
          "text": [
            "\rEpoch:  20%|██        | 2/10 [01:18<05:13, 39.17s/it]"
          ]
        },
        {
          "name": "stdout",
          "output_type": "stream",
          "text": [
            "Validation Accuracy: 0.5897727272727272\n",
            "Train loss: 0.3770290895545182\n"
          ]
        },
        {
          "name": "stderr",
          "output_type": "stream",
          "text": [
            "\rEpoch:  30%|███       | 3/10 [01:58<04:36, 39.55s/it]"
          ]
        },
        {
          "name": "stdout",
          "output_type": "stream",
          "text": [
            "Validation Accuracy: 0.6\n",
            "Train loss: 0.17622454678874558\n"
          ]
        },
        {
          "name": "stderr",
          "output_type": "stream",
          "text": [
            "\rEpoch:  40%|████      | 4/10 [02:37<03:57, 39.59s/it]"
          ]
        },
        {
          "name": "stdout",
          "output_type": "stream",
          "text": [
            "Validation Accuracy: 0.6113636363636363\n",
            "Train loss: 0.08925188246707455\n"
          ]
        },
        {
          "name": "stderr",
          "output_type": "stream",
          "text": [
            "\rEpoch:  50%|█████     | 5/10 [03:17<03:18, 39.66s/it]"
          ]
        },
        {
          "name": "stdout",
          "output_type": "stream",
          "text": [
            "Validation Accuracy: 0.6522727272727272\n",
            "Train loss: 0.059494208344923596\n"
          ]
        },
        {
          "name": "stderr",
          "output_type": "stream",
          "text": [
            "\rEpoch:  60%|██████    | 6/10 [03:57<02:38, 39.68s/it]"
          ]
        },
        {
          "name": "stdout",
          "output_type": "stream",
          "text": [
            "Validation Accuracy: 0.5590909090909091\n",
            "Train loss: 0.04492107264016669\n"
          ]
        },
        {
          "name": "stderr",
          "output_type": "stream",
          "text": [
            "\rEpoch:  70%|███████   | 7/10 [04:37<01:59, 39.70s/it]"
          ]
        },
        {
          "name": "stdout",
          "output_type": "stream",
          "text": [
            "Validation Accuracy: 0.5420454545454546\n",
            "Train loss: 0.044588652424741256\n"
          ]
        },
        {
          "name": "stderr",
          "output_type": "stream",
          "text": [
            "\rEpoch:  80%|████████  | 8/10 [05:16<01:19, 39.70s/it]"
          ]
        },
        {
          "name": "stdout",
          "output_type": "stream",
          "text": [
            "Validation Accuracy: 0.5659090909090909\n",
            "Train loss: 0.03833077619724883\n"
          ]
        },
        {
          "name": "stderr",
          "output_type": "stream",
          "text": [
            "\rEpoch:  90%|█████████ | 9/10 [05:56<00:39, 39.69s/it]"
          ]
        },
        {
          "name": "stdout",
          "output_type": "stream",
          "text": [
            "Validation Accuracy: 0.5704545454545454\n",
            "Train loss: 0.0434560219810086\n"
          ]
        },
        {
          "name": "stderr",
          "output_type": "stream",
          "text": [
            "Epoch: 100%|██████████| 10/10 [06:36<00:00, 39.61s/it]"
          ]
        },
        {
          "name": "stdout",
          "output_type": "stream",
          "text": [
            "Validation Accuracy: 0.5954545454545455\n"
          ]
        },
        {
          "name": "stderr",
          "output_type": "stream",
          "text": [
            "\n"
          ]
        }
      ],
      "source": [
        "from tqdm import tqdm, trange\n",
        "# Function to calculate the accuracy of our predictions vs labels\n",
        "def flat_accuracy(preds, labels):\n",
        "    pred_flat = np.argmax(preds, axis=1).flatten()\n",
        "    labels_flat = labels.flatten()\n",
        "    return np.sum(pred_flat == labels_flat) / len(labels_flat)\n",
        "t = []\n",
        "device = torch.device(\"cuda:0\" if torch.cuda.is_available() else \"cpu\")\n",
        "\n",
        "# Store our loss and accuracy for plotting\n",
        "train_loss_set = []\n",
        "\n",
        "# Number of training epochs \n",
        "epochs = 10\n",
        "\n",
        "# Transfer the model to GPU\n",
        "model.to(device)\n",
        "\n",
        "# trange is a tqdm wrapper around the normal python range\n",
        "for _ in trange(epochs, desc=\"Epoch\"):\n",
        "  \n",
        "  \n",
        "  # Training\n",
        "  \n",
        "  # Set our model to training mode (as opposed to evaluation mode)\n",
        "  model.train()\n",
        "  \n",
        "  # Tracking variables\n",
        "  tr_loss = 0\n",
        "  nb_tr_examples, nb_tr_steps = 0, 0\n",
        "  \n",
        "  # Train the data for one epoch\n",
        "  for step, batch in enumerate(train_dataloader):\n",
        "    # Add batch to GPU\n",
        "    b_input_ids, b_input_mask, b_labels = batch\n",
        "\n",
        "    # Clear out the gradients (by default they accumulate)\n",
        "    optimizer.zero_grad()\n",
        "\n",
        "    # Forward pass\n",
        "    loss = model(b_input_ids.to(device), token_type_ids=None, attention_mask=b_input_mask.to(device), labels=b_labels.to(device))[\"loss\"]\n",
        "    train_loss_set.append(loss.item())\n",
        "\n",
        "    # Backward pass\n",
        "    loss.backward()\n",
        "    \n",
        "    # Update parameters and take a step using the computed gradient\n",
        "    optimizer.step()\n",
        "    \n",
        "    \n",
        "    # Update tracking variables\n",
        "    tr_loss += loss.item()\n",
        "    nb_tr_examples += b_input_ids.size(0)\n",
        "    nb_tr_steps += 1\n",
        "\n",
        "  print(\"Train loss: {}\".format(tr_loss/nb_tr_steps))\n",
        "    \n",
        "  # Validation\n",
        "\n",
        "  # Put model in evaluation mode to evaluate loss on the validation set\n",
        "  model.eval()\n",
        "\n",
        "  # Tracking variables \n",
        "  eval_loss, eval_accuracy = 0, 0\n",
        "  nb_eval_steps, nb_eval_examples = 0, 0\n",
        "\n",
        "  # Evaluate data for one epoch\n",
        "  for batch in validation_dataloader:\n",
        "    # Add batch to GPU\n",
        "    # batch = tuple(t.to(device) for t in batch)\n",
        "    # Unpack the inputs from our dataloader\n",
        "    b_input_ids, b_input_mask, b_labels = batch\n",
        "    # Telling the model not to compute or store gradients, saving memory and speeding up validation\n",
        "    with torch.no_grad():\n",
        "      # Forward pass, calculate logit predictions\n",
        "      logits = model(b_input_ids.to(device), token_type_ids=None, attention_mask=b_input_mask.to(device))\n",
        "    \n",
        "    # Move logits and labels to CPU\n",
        "    logits = logits[\"logits\"].detach().cpu().numpy()\n",
        "    label_ids = b_labels.to('cpu').numpy()\n",
        "\n",
        "    tmp_eval_accuracy = flat_accuracy(logits, label_ids)\n",
        "    \n",
        "    eval_accuracy += tmp_eval_accuracy\n",
        "    nb_eval_steps += 1\n",
        "\n",
        "  print(\"Validation Accuracy: {}\".format(eval_accuracy/nb_eval_steps))\n",
        "  "
      ]
    },
    {
      "cell_type": "markdown",
      "metadata": {
        "id": "ACCjdMIxPdoc"
      },
      "source": [
        "# Apply predicition over the submission dataset"
      ]
    },
    {
      "cell_type": "code",
      "execution_count": null,
      "metadata": {
        "id": "DHlHPF8wPhx8"
      },
      "outputs": [],
      "source": [
        "\n",
        "#============= Read CSV and apply data preperation =============#\n",
        "df_submit = pd.read_csv(\"/content/drive/MyDrive/DEBI/uottawa/Ds applications/kaggle competition/test.csv\")\n",
        "\n",
        "# clean-up: remove #tags, http links and special symbols\n",
        "df_submit.tweet = df_submit.tweet.apply(lambda x: x[2:-2])\n",
        "df_submit.tweet = df_submit.tweet.apply(lambda x: re.sub(r'http\\S+', '', x))\n",
        "df_submit.tweet = df_submit.tweet.apply(lambda x: re.sub(r'[@|#]\\S*', '', x))\n",
        "df_submit.tweet = df_submit.tweet.apply(lambda x: re.sub(r'\"+', '', x))\n",
        "\n",
        "# Remove arabic signs\n",
        "df_submit.tweet = df_submit.tweet.apply(lambda x: re.sub(r'([@A-Za-z0-9_ـــــــــــــ]+)|[^\\w\\s]|#|http\\S+', '', x))\n",
        "\n",
        "# Remove repeated letters like \"الللللللللللللللله\" to \"الله\"\n",
        "df_submit.tweet = df_submit.tweet.apply(lambda x: x[0:2] + ''.join([x[i] for i in range(2, len(x)) if x[i]!=x[i-1] or x[i]!=x[i-2]]))\n",
        "\n",
        "# Tokenize the sentences using bert tokenizer\n",
        "df_submit[\"bert_tokens\"] = df_submit.tweet.apply(lambda x: tokenizer(x).tokens())"
      ]
    },
    {
      "cell_type": "code",
      "execution_count": null,
      "metadata": {
        "id": "r3oZNpodblu7"
      },
      "outputs": [],
      "source": [
        "df_submit = pd.read_csv(\"/content/drive/MyDrive/DEBI/uottawa/Ds applications/kaggle competition/test.csv\")\n",
        "\n",
        "df_submit.tweet = df_submit.tweet.apply(lambda x: x[2:-2]).apply(heart_emotion_translate).apply(happy_emotion_translate).apply(sad_emotion_translate).apply(general_filter).apply(rem_repeated_letters).apply(lem_stopwords_tokenize)\n",
        "\n",
        "df_submit[\"bert_tokens\"] = df_submit.tweet.apply(lambda x:tokenizer(x).tokens())# list(filter(lambda x: \"#\" not in x, tokenizer(x).tokens())))\n"
      ]
    },
    {
      "cell_type": "code",
      "execution_count": null,
      "metadata": {
        "id": "YiCekroGRFKG"
      },
      "outputs": [],
      "source": [
        "# df_submit[\"bert_tokens\"] = pre_process(df_submit)\n",
        "df_submit.head()\n",
        "bert_tokens_submit = df_submit[\"bert_tokens\"]"
      ]
    },
    {
      "cell_type": "code",
      "execution_count": null,
      "metadata": {
        "id": "KJ3vtlYkRTGb"
      },
      "outputs": [],
      "source": [
        "# Set the maximum sequence length. The longest sequence in our training set is 47, but we'll leave room on the end anyway. \n",
        "# In the original paper, the authors used a length of 512.\n",
        "MAX_LEN = 128\n",
        "# Use the BERT tokenizer to convert the tokens to their index numbers in the BERT vocabulary\n",
        "input_ids_submit = [tokenizer.convert_tokens_to_ids(x) for x in bert_tokens_submit]\n",
        "# Pad our input tokens\n",
        "input_ids_submit = pad_sequences(input_ids_submit, maxlen=MAX_LEN, dtype=\"long\", truncating=\"post\", padding=\"post\")\n",
        "# Create attention masks\n",
        "attention_masks_submit = []\n",
        "\n",
        "# Create a mask of 1s for each token followed by 0s for padding\n",
        "for seq in input_ids_submit:\n",
        "  seq_mask = [float(i>0) for i in seq]\n",
        "  attention_masks_submit.append(seq_mask)"
      ]
    },
    {
      "cell_type": "code",
      "execution_count": null,
      "metadata": {
        "id": "58982HhxRLUD"
      },
      "outputs": [],
      "source": [
        "# Convert all of our data into torch tensors, the required datatype for our model\n",
        "inputs_submit = torch.tensor(input_ids_submit)\n",
        "masks_submit = torch.tensor(attention_masks_submit)\n",
        "\n",
        "# Create an iterator of our data with torch DataLoader. This helps save on memory during training because, unlike a for loop, \n",
        "# with an iterator the entire dataset does not need to be loaded into memory\n",
        "batch_size = 16\n",
        "submit_data = TensorDataset(inputs_submit, masks_submit)\n",
        "\n",
        "# do not use shuffle, we need the preds to be in same order\n",
        "submit_dataloader = DataLoader(submit_data, batch_size=batch_size)#, shuffle=True)"
      ]
    },
    {
      "cell_type": "code",
      "execution_count": null,
      "metadata": {
        "id": "0NfUlXyySAh8"
      },
      "outputs": [],
      "source": [
        "# input, masks = next(iter(submit_dataloader))\n",
        "# out = model(input, attention_mask=masks)[\"logits\"]\n",
        "\n",
        "# pred_flat = np.argmax(out.detach().numpy(), axis=1).flatten()\n",
        "# le.inverse_transform(pred_flat)"
      ]
    },
    {
      "cell_type": "code",
      "execution_count": null,
      "metadata": {
        "id": "aZm0cffsRrY9"
      },
      "outputs": [],
      "source": [
        "# Put the model in an evaluation state\n",
        "model.eval()\n",
        "\n",
        "# Transfer model to GPU\n",
        "model.to(device)\n",
        "\n",
        "outputs = []\n",
        "for input, masks in submit_dataloader:\n",
        "  torch.cuda.empty_cache() # empty the gpu memory\n",
        "\n",
        "  # Transfer the batch to gpu\n",
        "  input = input.to(device)\n",
        "  masks = masks.to(device)\n",
        "\n",
        "  # Run inference on the batch\n",
        "  output = model(input, attention_mask=masks)[\"logits\"]\n",
        "\n",
        "  # Transfer the output to CPU again and convert to numpy\n",
        "  output = output.cpu().detach().numpy()\n",
        "\n",
        "  # Store the output in a list\n",
        "  outputs.append(output)\n",
        "\n",
        "# Concatenate all the lists within the list into one list\n",
        "outputs = [x for y in outputs for x in y]\n",
        "\n",
        "# Inverse transform the label encoding\n",
        "pred_flat = np.argmax(outputs, axis=1).flatten()\n",
        "output_labels = le.inverse_transform(pred_flat)"
      ]
    },
    {
      "cell_type": "code",
      "execution_count": null,
      "metadata": {
        "id": "5oOuGfmaSza0"
      },
      "outputs": [],
      "source": [
        "submission = pd.DataFrame({\"Id\":np.arange(1, len(output_labels)+1), \"class\":output_labels})\n",
        "# save (submission)\n",
        "submission.to_csv(\"/content/drive/MyDrive/DEBI/uottawa/Ds applications/kaggle competition/submission3.csv\", index=False)"
      ]
    },
    {
      "cell_type": "markdown",
      "metadata": {
        "id": "JIQobE47LJis"
      },
      "source": [
        "# Use last hidden state as input to an ML model"
      ]
    },
    {
      "cell_type": "code",
      "execution_count": null,
      "metadata": {
        "id": "WEShktfqirIa"
      },
      "outputs": [],
      "source": [
        "model.cpu()\n",
        "BERT = []\n",
        "for i in range(len(train_data)):\n",
        "  out = model.forward(train_data[i:i+1][0], attention_mask=train_data[i:i+1][1], output_hidden_states=True)\n",
        "  Sentence_Embedding = out['hidden_states'][-1][0][0].detach().numpy()\n",
        "  BERT.append(Sentence_Embedding)\n",
        "# print(out.keys())\n",
        "# print(out['hidden_states'][-1].shape)\n",
        "\n",
        "# Use the vector representation of [CLS] token as the sentence embedding\n",
        "# Sentence_Embedding = out['hidden_states'][-1][0][0].detach().numpy()\n",
        "# Sentence_Embedding.shape"
      ]
    },
    {
      "cell_type": "code",
      "execution_count": null,
      "metadata": {
        "colab": {
          "base_uri": "https://localhost:8080/"
        },
        "id": "R0TYnM-puLjk",
        "outputId": "a63aaba9-e31f-4556-91a1-e487aa778b32"
      },
      "outputs": [
        {
          "name": "stdout",
          "output_type": "stream",
          "text": [
            "Stored 'BERT' (list)\n"
          ]
        }
      ],
      "source": [
        "%store BERT"
      ]
    },
    {
      "cell_type": "code",
      "execution_count": null,
      "metadata": {
        "colab": {
          "base_uri": "https://localhost:8080/",
          "height": 424
        },
        "id": "5fa6ZaS1uP37",
        "outputId": "d1bf28e6-3721-41f0-bc57-3c148ef9b7b6"
      },
      "outputs": [
        {
          "data": {
            "text/html": [
              "\n",
              "  <div id=\"df-c234363d-e5ab-433f-b673-8e74a06b43e8\">\n",
              "    <div class=\"colab-df-container\">\n",
              "      <div>\n",
              "<style scoped>\n",
              "    .dataframe tbody tr th:only-of-type {\n",
              "        vertical-align: middle;\n",
              "    }\n",
              "\n",
              "    .dataframe tbody tr th {\n",
              "        vertical-align: top;\n",
              "    }\n",
              "\n",
              "    .dataframe thead th {\n",
              "        text-align: right;\n",
              "    }\n",
              "</style>\n",
              "<table border=\"1\" class=\"dataframe\">\n",
              "  <thead>\n",
              "    <tr style=\"text-align: right;\">\n",
              "      <th></th>\n",
              "      <th>BERT</th>\n",
              "      <th>class</th>\n",
              "    </tr>\n",
              "  </thead>\n",
              "  <tbody>\n",
              "    <tr>\n",
              "      <th>0</th>\n",
              "      <td>[-0.12731451, -0.49048722, 0.8446229, 0.259153...</td>\n",
              "      <td>2</td>\n",
              "    </tr>\n",
              "    <tr>\n",
              "      <th>1</th>\n",
              "      <td>[-0.007940845, -0.35844922, 0.64526886, 1.4159...</td>\n",
              "      <td>0</td>\n",
              "    </tr>\n",
              "    <tr>\n",
              "      <th>2</th>\n",
              "      <td>[-0.14694825, -0.15108207, 0.61844623, 0.22090...</td>\n",
              "      <td>2</td>\n",
              "    </tr>\n",
              "    <tr>\n",
              "      <th>3</th>\n",
              "      <td>[-0.39919105, -0.77086115, 0.91552955, 0.41431...</td>\n",
              "      <td>0</td>\n",
              "    </tr>\n",
              "    <tr>\n",
              "      <th>4</th>\n",
              "      <td>[0.37260002, -0.15834673, 0.7876212, 1.0688679...</td>\n",
              "      <td>0</td>\n",
              "    </tr>\n",
              "    <tr>\n",
              "      <th>...</th>\n",
              "      <td>...</td>\n",
              "      <td>...</td>\n",
              "    </tr>\n",
              "    <tr>\n",
              "      <th>1889</th>\n",
              "      <td>[-0.08940428, -0.048215955, 0.54252553, 0.1527...</td>\n",
              "      <td>2</td>\n",
              "    </tr>\n",
              "    <tr>\n",
              "      <th>1890</th>\n",
              "      <td>[-0.09964228, 0.2793295, -1.509599, -0.6494946...</td>\n",
              "      <td>1</td>\n",
              "    </tr>\n",
              "    <tr>\n",
              "      <th>1891</th>\n",
              "      <td>[1.6351423, -1.1040494, -0.9031536, -2.797814,...</td>\n",
              "      <td>1</td>\n",
              "    </tr>\n",
              "    <tr>\n",
              "      <th>1892</th>\n",
              "      <td>[0.4533549, 0.007047168, -1.6182576, -0.951273...</td>\n",
              "      <td>1</td>\n",
              "    </tr>\n",
              "    <tr>\n",
              "      <th>1893</th>\n",
              "      <td>[1.323639, 0.20193408, -0.79267466, -1.0947683...</td>\n",
              "      <td>1</td>\n",
              "    </tr>\n",
              "  </tbody>\n",
              "</table>\n",
              "<p>1894 rows × 2 columns</p>\n",
              "</div>\n",
              "      <button class=\"colab-df-convert\" onclick=\"convertToInteractive('df-c234363d-e5ab-433f-b673-8e74a06b43e8')\"\n",
              "              title=\"Convert this dataframe to an interactive table.\"\n",
              "              style=\"display:none;\">\n",
              "        \n",
              "  <svg xmlns=\"http://www.w3.org/2000/svg\" height=\"24px\"viewBox=\"0 0 24 24\"\n",
              "       width=\"24px\">\n",
              "    <path d=\"M0 0h24v24H0V0z\" fill=\"none\"/>\n",
              "    <path d=\"M18.56 5.44l.94 2.06.94-2.06 2.06-.94-2.06-.94-.94-2.06-.94 2.06-2.06.94zm-11 1L8.5 8.5l.94-2.06 2.06-.94-2.06-.94L8.5 2.5l-.94 2.06-2.06.94zm10 10l.94 2.06.94-2.06 2.06-.94-2.06-.94-.94-2.06-.94 2.06-2.06.94z\"/><path d=\"M17.41 7.96l-1.37-1.37c-.4-.4-.92-.59-1.43-.59-.52 0-1.04.2-1.43.59L10.3 9.45l-7.72 7.72c-.78.78-.78 2.05 0 2.83L4 21.41c.39.39.9.59 1.41.59.51 0 1.02-.2 1.41-.59l7.78-7.78 2.81-2.81c.8-.78.8-2.07 0-2.86zM5.41 20L4 18.59l7.72-7.72 1.47 1.35L5.41 20z\"/>\n",
              "  </svg>\n",
              "      </button>\n",
              "      \n",
              "  <style>\n",
              "    .colab-df-container {\n",
              "      display:flex;\n",
              "      flex-wrap:wrap;\n",
              "      gap: 12px;\n",
              "    }\n",
              "\n",
              "    .colab-df-convert {\n",
              "      background-color: #E8F0FE;\n",
              "      border: none;\n",
              "      border-radius: 50%;\n",
              "      cursor: pointer;\n",
              "      display: none;\n",
              "      fill: #1967D2;\n",
              "      height: 32px;\n",
              "      padding: 0 0 0 0;\n",
              "      width: 32px;\n",
              "    }\n",
              "\n",
              "    .colab-df-convert:hover {\n",
              "      background-color: #E2EBFA;\n",
              "      box-shadow: 0px 1px 2px rgba(60, 64, 67, 0.3), 0px 1px 3px 1px rgba(60, 64, 67, 0.15);\n",
              "      fill: #174EA6;\n",
              "    }\n",
              "\n",
              "    [theme=dark] .colab-df-convert {\n",
              "      background-color: #3B4455;\n",
              "      fill: #D2E3FC;\n",
              "    }\n",
              "\n",
              "    [theme=dark] .colab-df-convert:hover {\n",
              "      background-color: #434B5C;\n",
              "      box-shadow: 0px 1px 3px 1px rgba(0, 0, 0, 0.15);\n",
              "      filter: drop-shadow(0px 1px 2px rgba(0, 0, 0, 0.3));\n",
              "      fill: #FFFFFF;\n",
              "    }\n",
              "  </style>\n",
              "\n",
              "      <script>\n",
              "        const buttonEl =\n",
              "          document.querySelector('#df-c234363d-e5ab-433f-b673-8e74a06b43e8 button.colab-df-convert');\n",
              "        buttonEl.style.display =\n",
              "          google.colab.kernel.accessAllowed ? 'block' : 'none';\n",
              "\n",
              "        async function convertToInteractive(key) {\n",
              "          const element = document.querySelector('#df-c234363d-e5ab-433f-b673-8e74a06b43e8');\n",
              "          const dataTable =\n",
              "            await google.colab.kernel.invokeFunction('convertToInteractive',\n",
              "                                                     [key], {});\n",
              "          if (!dataTable) return;\n",
              "\n",
              "          const docLinkHtml = 'Like what you see? Visit the ' +\n",
              "            '<a target=\"_blank\" href=https://colab.research.google.com/notebooks/data_table.ipynb>data table notebook</a>'\n",
              "            + ' to learn more about interactive tables.';\n",
              "          element.innerHTML = '';\n",
              "          dataTable['output_type'] = 'display_data';\n",
              "          await google.colab.output.renderOutput(dataTable, element);\n",
              "          const docLink = document.createElement('div');\n",
              "          docLink.innerHTML = docLinkHtml;\n",
              "          element.appendChild(docLink);\n",
              "        }\n",
              "      </script>\n",
              "    </div>\n",
              "  </div>\n",
              "  "
            ],
            "text/plain": [
              "                                                   BERT  class\n",
              "0     [-0.12731451, -0.49048722, 0.8446229, 0.259153...      2\n",
              "1     [-0.007940845, -0.35844922, 0.64526886, 1.4159...      0\n",
              "2     [-0.14694825, -0.15108207, 0.61844623, 0.22090...      2\n",
              "3     [-0.39919105, -0.77086115, 0.91552955, 0.41431...      0\n",
              "4     [0.37260002, -0.15834673, 0.7876212, 1.0688679...      0\n",
              "...                                                 ...    ...\n",
              "1889  [-0.08940428, -0.048215955, 0.54252553, 0.1527...      2\n",
              "1890  [-0.09964228, 0.2793295, -1.509599, -0.6494946...      1\n",
              "1891  [1.6351423, -1.1040494, -0.9031536, -2.797814,...      1\n",
              "1892  [0.4533549, 0.007047168, -1.6182576, -0.951273...      1\n",
              "1893  [1.323639, 0.20193408, -0.79267466, -1.0947683...      1\n",
              "\n",
              "[1894 rows x 2 columns]"
            ]
          },
          "execution_count": 67,
          "metadata": {},
          "output_type": "execute_result"
        }
      ],
      "source": [
        "bert = pd.Series(BERT)\n",
        "d = {'BERT': bert, 'class': train_data[:][2]}\n",
        "classification_df = pd.DataFrame(data = d)\n",
        "classification_df"
      ]
    },
    {
      "cell_type": "code",
      "execution_count": null,
      "metadata": {
        "id": "ObkrfeGyvTiV"
      },
      "outputs": [],
      "source": [
        "classification_df.to_csv(\"/content/drive/MyDrive/DEBI/uottawa/Ds applications/kaggle competition/classification_df.csv\")"
      ]
    },
    {
      "cell_type": "code",
      "execution_count": null,
      "metadata": {
        "colab": {
          "base_uri": "https://localhost:8080/"
        },
        "id": "wnGK2RaJvitz",
        "outputId": "99880fa6-84d2-4dd0-a5f6-eb283c2b1f3d"
      },
      "outputs": [
        {
          "name": "stdout",
          "output_type": "stream",
          "text": [
            "Stored 'model' (BertForSequenceClassification)\n"
          ]
        }
      ],
      "source": [
        "%store model"
      ]
    },
    {
      "cell_type": "code",
      "execution_count": null,
      "metadata": {
        "id": "HhfA47c3KKa3"
      },
      "outputs": [],
      "source": [
        "model.cpu()\n",
        "BERT_validation = []\n",
        "\n",
        "for i in range(len(validation_data)):\n",
        "  out = model.forward(validation_data[i:i+1][0], attention_mask=validation_data[i:i+1][1], output_hidden_states=True)\n",
        "  Sentence_Embedding = out['hidden_states'][-1][0][0].detach().numpy()\n",
        "  BERT_validation.append(Sentence_Embedding)\n",
        "# BERT.append(Sentence_Embedding)\n",
        "# print(out.keys())\n",
        "# print(out['hidden_states'][-1].shape)\n",
        "\n",
        "# Use the vector representation of [CLS] token as the sentence embedding\n",
        "# Sentence_Embedding = out['hidden_states'][-1][0][0].detach().numpy()\n",
        "# Sentence_Embedding.shape"
      ]
    },
    {
      "cell_type": "code",
      "execution_count": null,
      "metadata": {
        "colab": {
          "base_uri": "https://localhost:8080/",
          "height": 424
        },
        "id": "ud8FqKrdg_pD",
        "outputId": "5eda1eac-7a55-4035-c148-6a711e2b9baa"
      },
      "outputs": [
        {
          "data": {
            "text/html": [
              "\n",
              "  <div id=\"df-d7d7e12d-47a2-4022-8424-f8f27642f115\">\n",
              "    <div class=\"colab-df-container\">\n",
              "      <div>\n",
              "<style scoped>\n",
              "    .dataframe tbody tr th:only-of-type {\n",
              "        vertical-align: middle;\n",
              "    }\n",
              "\n",
              "    .dataframe tbody tr th {\n",
              "        vertical-align: top;\n",
              "    }\n",
              "\n",
              "    .dataframe thead th {\n",
              "        text-align: right;\n",
              "    }\n",
              "</style>\n",
              "<table border=\"1\" class=\"dataframe\">\n",
              "  <thead>\n",
              "    <tr style=\"text-align: right;\">\n",
              "      <th></th>\n",
              "      <th>BERT</th>\n",
              "      <th>class</th>\n",
              "    </tr>\n",
              "  </thead>\n",
              "  <tbody>\n",
              "    <tr>\n",
              "      <th>0</th>\n",
              "      <td>[-0.28990933, -0.48097312, 0.13375153, 0.06122...</td>\n",
              "      <td>0</td>\n",
              "    </tr>\n",
              "    <tr>\n",
              "      <th>1</th>\n",
              "      <td>[0.7880645, -0.9040965, 0.42353922, 0.14112216...</td>\n",
              "      <td>2</td>\n",
              "    </tr>\n",
              "    <tr>\n",
              "      <th>2</th>\n",
              "      <td>[1.2053293, -0.48301965, -0.6003597, -0.741756...</td>\n",
              "      <td>1</td>\n",
              "    </tr>\n",
              "    <tr>\n",
              "      <th>3</th>\n",
              "      <td>[-0.037450455, -1.1154842, 1.168601, 0.6066721...</td>\n",
              "      <td>0</td>\n",
              "    </tr>\n",
              "    <tr>\n",
              "      <th>4</th>\n",
              "      <td>[0.6025331, -0.08868365, 0.49975565, -0.498329...</td>\n",
              "      <td>1</td>\n",
              "    </tr>\n",
              "    <tr>\n",
              "      <th>...</th>\n",
              "      <td>...</td>\n",
              "      <td>...</td>\n",
              "    </tr>\n",
              "    <tr>\n",
              "      <th>160</th>\n",
              "      <td>[0.39436767, -0.42208368, 0.99308145, 0.597421...</td>\n",
              "      <td>2</td>\n",
              "    </tr>\n",
              "    <tr>\n",
              "      <th>161</th>\n",
              "      <td>[-0.5526609, -0.7062738, 0.6757368, 0.13619643...</td>\n",
              "      <td>0</td>\n",
              "    </tr>\n",
              "    <tr>\n",
              "      <th>162</th>\n",
              "      <td>[-0.43905485, -0.8510437, 1.0037291, 1.2826824...</td>\n",
              "      <td>0</td>\n",
              "    </tr>\n",
              "    <tr>\n",
              "      <th>163</th>\n",
              "      <td>[0.3026767, -1.1887829, 1.0611136, -0.8916653,...</td>\n",
              "      <td>1</td>\n",
              "    </tr>\n",
              "    <tr>\n",
              "      <th>164</th>\n",
              "      <td>[0.100147255, -0.284045, 1.150242, 0.20905752,...</td>\n",
              "      <td>2</td>\n",
              "    </tr>\n",
              "  </tbody>\n",
              "</table>\n",
              "<p>165 rows × 2 columns</p>\n",
              "</div>\n",
              "      <button class=\"colab-df-convert\" onclick=\"convertToInteractive('df-d7d7e12d-47a2-4022-8424-f8f27642f115')\"\n",
              "              title=\"Convert this dataframe to an interactive table.\"\n",
              "              style=\"display:none;\">\n",
              "        \n",
              "  <svg xmlns=\"http://www.w3.org/2000/svg\" height=\"24px\"viewBox=\"0 0 24 24\"\n",
              "       width=\"24px\">\n",
              "    <path d=\"M0 0h24v24H0V0z\" fill=\"none\"/>\n",
              "    <path d=\"M18.56 5.44l.94 2.06.94-2.06 2.06-.94-2.06-.94-.94-2.06-.94 2.06-2.06.94zm-11 1L8.5 8.5l.94-2.06 2.06-.94-2.06-.94L8.5 2.5l-.94 2.06-2.06.94zm10 10l.94 2.06.94-2.06 2.06-.94-2.06-.94-.94-2.06-.94 2.06-2.06.94z\"/><path d=\"M17.41 7.96l-1.37-1.37c-.4-.4-.92-.59-1.43-.59-.52 0-1.04.2-1.43.59L10.3 9.45l-7.72 7.72c-.78.78-.78 2.05 0 2.83L4 21.41c.39.39.9.59 1.41.59.51 0 1.02-.2 1.41-.59l7.78-7.78 2.81-2.81c.8-.78.8-2.07 0-2.86zM5.41 20L4 18.59l7.72-7.72 1.47 1.35L5.41 20z\"/>\n",
              "  </svg>\n",
              "      </button>\n",
              "      \n",
              "  <style>\n",
              "    .colab-df-container {\n",
              "      display:flex;\n",
              "      flex-wrap:wrap;\n",
              "      gap: 12px;\n",
              "    }\n",
              "\n",
              "    .colab-df-convert {\n",
              "      background-color: #E8F0FE;\n",
              "      border: none;\n",
              "      border-radius: 50%;\n",
              "      cursor: pointer;\n",
              "      display: none;\n",
              "      fill: #1967D2;\n",
              "      height: 32px;\n",
              "      padding: 0 0 0 0;\n",
              "      width: 32px;\n",
              "    }\n",
              "\n",
              "    .colab-df-convert:hover {\n",
              "      background-color: #E2EBFA;\n",
              "      box-shadow: 0px 1px 2px rgba(60, 64, 67, 0.3), 0px 1px 3px 1px rgba(60, 64, 67, 0.15);\n",
              "      fill: #174EA6;\n",
              "    }\n",
              "\n",
              "    [theme=dark] .colab-df-convert {\n",
              "      background-color: #3B4455;\n",
              "      fill: #D2E3FC;\n",
              "    }\n",
              "\n",
              "    [theme=dark] .colab-df-convert:hover {\n",
              "      background-color: #434B5C;\n",
              "      box-shadow: 0px 1px 3px 1px rgba(0, 0, 0, 0.15);\n",
              "      filter: drop-shadow(0px 1px 2px rgba(0, 0, 0, 0.3));\n",
              "      fill: #FFFFFF;\n",
              "    }\n",
              "  </style>\n",
              "\n",
              "      <script>\n",
              "        const buttonEl =\n",
              "          document.querySelector('#df-d7d7e12d-47a2-4022-8424-f8f27642f115 button.colab-df-convert');\n",
              "        buttonEl.style.display =\n",
              "          google.colab.kernel.accessAllowed ? 'block' : 'none';\n",
              "\n",
              "        async function convertToInteractive(key) {\n",
              "          const element = document.querySelector('#df-d7d7e12d-47a2-4022-8424-f8f27642f115');\n",
              "          const dataTable =\n",
              "            await google.colab.kernel.invokeFunction('convertToInteractive',\n",
              "                                                     [key], {});\n",
              "          if (!dataTable) return;\n",
              "\n",
              "          const docLinkHtml = 'Like what you see? Visit the ' +\n",
              "            '<a target=\"_blank\" href=https://colab.research.google.com/notebooks/data_table.ipynb>data table notebook</a>'\n",
              "            + ' to learn more about interactive tables.';\n",
              "          element.innerHTML = '';\n",
              "          dataTable['output_type'] = 'display_data';\n",
              "          await google.colab.output.renderOutput(dataTable, element);\n",
              "          const docLink = document.createElement('div');\n",
              "          docLink.innerHTML = docLinkHtml;\n",
              "          element.appendChild(docLink);\n",
              "        }\n",
              "      </script>\n",
              "    </div>\n",
              "  </div>\n",
              "  "
            ],
            "text/plain": [
              "                                                  BERT  class\n",
              "0    [-0.28990933, -0.48097312, 0.13375153, 0.06122...      0\n",
              "1    [0.7880645, -0.9040965, 0.42353922, 0.14112216...      2\n",
              "2    [1.2053293, -0.48301965, -0.6003597, -0.741756...      1\n",
              "3    [-0.037450455, -1.1154842, 1.168601, 0.6066721...      0\n",
              "4    [0.6025331, -0.08868365, 0.49975565, -0.498329...      1\n",
              "..                                                 ...    ...\n",
              "160  [0.39436767, -0.42208368, 0.99308145, 0.597421...      2\n",
              "161  [-0.5526609, -0.7062738, 0.6757368, 0.13619643...      0\n",
              "162  [-0.43905485, -0.8510437, 1.0037291, 1.2826824...      0\n",
              "163  [0.3026767, -1.1887829, 1.0611136, -0.8916653,...      1\n",
              "164  [0.100147255, -0.284045, 1.150242, 0.20905752,...      2\n",
              "\n",
              "[165 rows x 2 columns]"
            ]
          },
          "execution_count": 76,
          "metadata": {},
          "output_type": "execute_result"
        }
      ],
      "source": [
        "bert = pd.Series(BERT_validation)\n",
        "d = {'BERT': bert, 'class': validation_data[:][2]}\n",
        "classification_test_df = pd.DataFrame(data = d)\n",
        "classification_test_df"
      ]
    },
    {
      "cell_type": "code",
      "execution_count": null,
      "metadata": {
        "id": "y_IbuuEBygsL"
      },
      "outputs": [],
      "source": [
        "classification_test_df.to_csv(\"/content/drive/MyDrive/DEBI/uottawa/Ds applications/kaggle competition/classification_test_df.csv\")\n"
      ]
    },
    {
      "cell_type": "code",
      "execution_count": null,
      "metadata": {
        "id": "5HI37N813llT"
      },
      "outputs": [],
      "source": [
        "import seaborn as sns\n",
        "# from pylab import rcParams\n",
        "import matplotlib.pyplot as plt"
      ]
    },
    {
      "cell_type": "code",
      "execution_count": null,
      "metadata": {
        "id": "4bSAudRI3dvc"
      },
      "outputs": [],
      "source": [
        "def confusion_matrix_binary_classes(y_test,y_pred):\n",
        "  print(confusion_matrix(y_test, y_pred))\n",
        "  ax = sns.heatmap(confusion_matrix(y_test,y_pred ), annot=True, cmap='PuBuGn')\n",
        "  plt.xlabel('Predictions', fontsize=18)\n",
        "  plt.ylabel('Actuals', fontsize=18)\n",
        "  plt.title('SVM Confusion Matrix', fontsize=18)\n",
        "  plt.show()\n",
        "  print(classification_report(y_test,y_pred))"
      ]
    },
    {
      "cell_type": "code",
      "execution_count": null,
      "metadata": {
        "id": "Px-ACYPIzirD"
      },
      "outputs": [],
      "source": [
        "import itertools\n",
        "def add_padding(X):\n",
        "  return np.array(list(zip(*itertools.zip_longest(*X , fillvalue=0))))"
      ]
    },
    {
      "cell_type": "code",
      "execution_count": null,
      "metadata": {
        "colab": {
          "base_uri": "https://localhost:8080/"
        },
        "id": "v3oFSJOHyow7",
        "outputId": "31f8a7b3-2193-4381-d098-a97d98e2d653"
      },
      "outputs": [
        {
          "data": {
            "text/plain": [
              "1.0"
            ]
          },
          "execution_count": 100,
          "metadata": {},
          "output_type": "execute_result"
        }
      ],
      "source": [
        "from sklearn import svm\n",
        "from sklearn.metrics import accuracy_score\n",
        "X_train= add_padding(classification_df[\"BERT\"].to_numpy())\n",
        "y_train= classification_df[\"class\"].to_numpy()\n",
        "X_test = add_padding(classification_test_df[\"BERT\"].to_numpy())\n",
        "y_test = classification_test_df[\"class\"].to_numpy()\n",
        "\n",
        "clf = svm.SVC(decision_function_shape='ovo')\n",
        "clf.fit(X_train, y_train)\n",
        "y_pred  = clf.predict(X_train)\n",
        "accuracy_score(y_train,y_pred)"
      ]
    },
    {
      "cell_type": "code",
      "execution_count": null,
      "metadata": {
        "colab": {
          "base_uri": "https://localhost:8080/"
        },
        "id": "u_n5vUWwyop7",
        "outputId": "f0668a41-2c4f-41cd-9d48-b38995234400"
      },
      "outputs": [
        {
          "data": {
            "text/plain": [
              "0.5757575757575758"
            ]
          },
          "execution_count": 101,
          "metadata": {},
          "output_type": "execute_result"
        }
      ],
      "source": [
        "y_pred  = clf.predict(X_test)\n",
        "accuracy_score(y_test,y_pred)"
      ]
    },
    {
      "cell_type": "code",
      "execution_count": null,
      "metadata": {
        "colab": {
          "base_uri": "https://localhost:8080/",
          "height": 533
        },
        "id": "WDw2xQlw1jxs",
        "outputId": "0d95b8eb-64f6-4506-c309-2b2198d2d405"
      },
      "outputs": [
        {
          "name": "stdout",
          "output_type": "stream",
          "text": [
            "[[35 12 11]\n",
            " [22 21 12]\n",
            " [ 2 11 39]]\n"
          ]
        },
        {
          "data": {
            "image/png": "[encoded data removed]",
            "text/plain": [
              "<Figure size 432x288 with 2 Axes>"
            ]
          },
          "metadata": {
            "needs_background": "light"
          },
          "output_type": "display_data"
        },
        {
          "name": "stdout",
          "output_type": "stream",
          "text": [
            "              precision    recall  f1-score   support\n",
            "\n",
            "           0       0.59      0.60      0.60        58\n",
            "           1       0.48      0.38      0.42        55\n",
            "           2       0.63      0.75      0.68        52\n",
            "\n",
            "    accuracy                           0.58       165\n",
            "   macro avg       0.57      0.58      0.57       165\n",
            "weighted avg       0.57      0.58      0.57       165\n",
            "\n"
          ]
        }
      ],
      "source": [
        "from sklearn.metrics import confusion_matrix,classification_report\n",
        "confusion_matrix_binary_classes(y_test,y_pred)"
      ]
    },
    {
      "cell_type": "code",
      "execution_count": null,
      "metadata": {
        "id": "1fCyMYfc3_97"
      },
      "outputs": [],
      "source": [
        "from sklearn.neighbors import KNeighborsClassifier\n",
        "from sklearn.model_selection import validation_curve\n",
        "def plot_cv_indices(clf, X, y,param_name,parameter_range,  cv=10,model_name =\"SVM\"):\n",
        " \n",
        "  train_score, test_score = validation_curve(clf, X, y,\n",
        "                                       param_name = param_name,\n",
        "                                       param_range = parameter_range,\n",
        "                                        cv = cv, scoring = \"accuracy\",n_jobs=2)\n",
        " \n",
        "# Calculating mean and standard deviation of training score\n",
        "  mean_train_score = np.mean(train_score, axis = 1)\n",
        "  std_train_score = np.std(train_score, axis = 1)\n",
        " \n",
        "# Calculating mean and standard deviation of testing score\n",
        "  mean_test_score = np.mean(test_score, axis = 1)\n",
        "  std_test_score = np.std(test_score, axis = 1)\n",
        " \n",
        "# Plot mean accuracy scores for training and testing scores\n",
        "  plt.plot(parameter_range, mean_train_score,\n",
        "     label = \"Training Score\", color = 'b')\n",
        "  plt.plot(parameter_range, mean_test_score,\n",
        "   label = \"Cross Validation Score\", color = 'g')\n",
        " \n",
        "# Creating the plot\n",
        "  plt.title(f\"Validation Curve with {model_name} Classifier\")\n",
        "  plt.xlabel(f\"Value of {param_name}\")\n",
        "  plt.ylabel(\"Accuracy\")\n",
        "  plt.tight_layout()\n",
        "  plt.legend(loc = 'best')\n",
        "  plt.show()"
      ]
    },
    {
      "cell_type": "code",
      "execution_count": null,
      "metadata": {
        "id": "oGea1bSK4w7D"
      },
      "outputs": [],
      "source": [
        "from sklearn.model_selection import cross_val_score\n",
        "\n",
        "def plot_cross_val_scores(scores):\n",
        "  plt.bar(range(1,len(scores)+1,1) , scores, width=0.5)\n",
        "  \n",
        "\n",
        "  plt.title(\"The score for each train-and-validation run\")\n",
        "  plt.xlabel(\"train-and-validation run\")\n",
        "  plt.ylabel(\"Score\")\n",
        "  plt.show()\n",
        "\n",
        "def mesure_cross_vall(clf, X_train, y_train, cv=10):\n",
        "  scores = cross_val_score(clf, X_train, y_train, cv=cv)\n",
        "  print(\"Accuracy: %0.2f (+/- %0.2f)\" % (scores.mean(), scores.std() * 2))\n",
        "  print(\"K-fold cross validation score: fo each \",scores)\n",
        "  return scores\n",
        "\n",
        "def evaluate_bias_variance(clf, X_train, y_train, X_test, y_test):\n",
        "  avg_expected_loss, avg_bias, avg_var = bias_variance_decomp(\n",
        "        clf, X_train, y_train, X_test, y_test, \n",
        "        loss='0-1_loss',random_seed=123)\n",
        "  print('Average expected loss: %.3f' % avg_expected_loss)\n",
        "  print('Av erage bias: %.3f' % avg_bias)\n",
        "  print('Average variance: %.3f' % avg_var)\n",
        "\n",
        "def model_evaluation(clf, X_train, y_train,cv=10):\n",
        "  scores = mesure_cross_vall(clf, X_train, y_train, cv)\n",
        "  #plot_cross_val_scores(scores)\n",
        "  # evaluate_bias_variance(clf, X_train, y_train, X_test, y_test)"
      ]
    },
    {
      "cell_type": "code",
      "execution_count": null,
      "metadata": {
        "colab": {
          "base_uri": "https://localhost:8080/",
          "height": 332
        },
        "id": "vUiwVM7l3E_K",
        "outputId": "d8161cc0-fb50-4252-f3af-e3df6b877cd4"
      },
      "outputs": [
        {
          "name": "stdout",
          "output_type": "stream",
          "text": [
            "Accuracy: 1.00 (+/- 0.00)\n",
            "K-fold cross validation score: fo each  [1. 1. 1. 1. 1.]\n"
          ]
        },
        {
          "data": {
            "image/png": "[encoded data removed]",
            "text/plain": [
              "<Figure size 432x288 with 1 Axes>"
            ]
          },
          "metadata": {
            "needs_background": "light"
          },
          "output_type": "display_data"
        }
      ],
      "source": [
        "clfbknn = KNeighborsClassifier(n_neighbors=4)\n",
        "model_evaluation(clfbknn, X_train, y_train, cv=5)\n",
        "param_range = np.arange(1, 11, 1)\n",
        "plot_cv_indices(clfbknn, X_train, y_train ,\"n_neighbors\", param_range ,  cv=10 ,model_name = \"KNN\")"
      ]
    },
    {
      "cell_type": "code",
      "execution_count": null,
      "metadata": {
        "colab": {
          "base_uri": "https://localhost:8080/"
        },
        "id": "N2RYlkQI5YXD",
        "outputId": "f43a63f8-6e32-46e8-e510-08b66278f860"
      },
      "outputs": [
        {
          "data": {
            "text/plain": [
              "0.5757575757575758"
            ]
          },
          "execution_count": 117,
          "metadata": {},
          "output_type": "execute_result"
        }
      ],
      "source": [
        "clfbknn.fit(X_train, y_train)\n",
        "y_pred  = clf.predict(X_test)\n",
        "accuracy_score(y_test,y_pred)"
      ]
    },
    {
      "cell_type": "code",
      "execution_count": null,
      "metadata": {
        "colab": {
          "base_uri": "https://localhost:8080/"
        },
        "id": "rREVuMKt6CaT",
        "outputId": "ca598c75-778a-4c54-d1e5-c13017d3303c"
      },
      "outputs": [
        {
          "data": {
            "text/plain": [
              "0.5818181818181818"
            ]
          },
          "execution_count": 118,
          "metadata": {},
          "output_type": "execute_result"
        }
      ],
      "source": [
        "from sklearn.naive_bayes import GaussianNB\n",
        "gnb = GaussianNB()\n",
        "gnb.fit(X_train, y_train)\n",
        "y_pred  = gnb.predict(X_test)\n",
        "accuracy_score(y_test,y_pred)"
      ]
    },
    {
      "cell_type": "code",
      "execution_count": null,
      "metadata": {
        "colab": {
          "base_uri": "https://localhost:8080/",
          "height": 424
        },
        "id": "BpfFu7Tn6Yo9",
        "outputId": "424d8b86-cfa0-40cc-afbf-e02a995c321f"
      },
      "outputs": [
        {
          "data": {
            "text/html": [
              "\n",
              "  <div id=\"df-22754c74-ebcc-4621-82dc-47f4f8f171f1\">\n",
              "    <div class=\"colab-df-container\">\n",
              "      <div>\n",
              "<style scoped>\n",
              "    .dataframe tbody tr th:only-of-type {\n",
              "        vertical-align: middle;\n",
              "    }\n",
              "\n",
              "    .dataframe tbody tr th {\n",
              "        vertical-align: top;\n",
              "    }\n",
              "\n",
              "    .dataframe thead th {\n",
              "        text-align: right;\n",
              "    }\n",
              "</style>\n",
              "<table border=\"1\" class=\"dataframe\">\n",
              "  <thead>\n",
              "    <tr style=\"text-align: right;\">\n",
              "      <th></th>\n",
              "      <th>Id</th>\n",
              "      <th>tweet</th>\n",
              "    </tr>\n",
              "  </thead>\n",
              "  <tbody>\n",
              "    <tr>\n",
              "      <th>0</th>\n",
              "      <td>1</td>\n",
              "      <td>' فينو الاهبل ابن الاهبل '</td>\n",
              "    </tr>\n",
              "    <tr>\n",
              "      <th>1</th>\n",
              "      <td>2</td>\n",
              "      <td>' على المصرييييين وجمالهم ربنا يحميهم #MinaAtt...</td>\n",
              "    </tr>\n",
              "    <tr>\n",
              "      <th>2</th>\n",
              "      <td>3</td>\n",
              "      <td>' @Kholoudkewan  دول كتير اوى ودمهم خفيف العما...</td>\n",
              "    </tr>\n",
              "    <tr>\n",
              "      <th>3</th>\n",
              "      <td>4</td>\n",
              "      <td>' انا بعد كده  خلى اللى يوعنى   بحاجه همضى على...</td>\n",
              "    </tr>\n",
              "    <tr>\n",
              "      <th>4</th>\n",
              "      <td>5</td>\n",
              "      <td>' انا هنتحر '</td>\n",
              "    </tr>\n",
              "    <tr>\n",
              "      <th>...</th>\n",
              "      <td>...</td>\n",
              "      <td>...</td>\n",
              "    </tr>\n",
              "    <tr>\n",
              "      <th>682</th>\n",
              "      <td>683</td>\n",
              "      <td>' كاستيلو المنتزه بقا خره نيك '</td>\n",
              "    </tr>\n",
              "    <tr>\n",
              "      <th>683</th>\n",
              "      <td>684</td>\n",
              "      <td>' @badorh666 اهم شئ ...الطاعة ..... '</td>\n",
              "    </tr>\n",
              "    <tr>\n",
              "      <th>684</th>\n",
              "      <td>685</td>\n",
              "      <td>' ايووووووووه بقى يا مينوووو وحشتنااااا #مينا_...</td>\n",
              "    </tr>\n",
              "    <tr>\n",
              "      <th>685</th>\n",
              "      <td>686</td>\n",
              "      <td>' العشرى جون #الزمالك الاول جول واحمد الله لان...</td>\n",
              "    </tr>\n",
              "    <tr>\n",
              "      <th>686</th>\n",
              "      <td>687</td>\n",
              "      <td>' @AsmaaElwasek ازاي اسماء '</td>\n",
              "    </tr>\n",
              "  </tbody>\n",
              "</table>\n",
              "<p>687 rows × 2 columns</p>\n",
              "</div>\n",
              "      <button class=\"colab-df-convert\" onclick=\"convertToInteractive('df-22754c74-ebcc-4621-82dc-47f4f8f171f1')\"\n",
              "              title=\"Convert this dataframe to an interactive table.\"\n",
              "              style=\"display:none;\">\n",
              "        \n",
              "  <svg xmlns=\"http://www.w3.org/2000/svg\" height=\"24px\"viewBox=\"0 0 24 24\"\n",
              "       width=\"24px\">\n",
              "    <path d=\"M0 0h24v24H0V0z\" fill=\"none\"/>\n",
              "    <path d=\"M18.56 5.44l.94 2.06.94-2.06 2.06-.94-2.06-.94-.94-2.06-.94 2.06-2.06.94zm-11 1L8.5 8.5l.94-2.06 2.06-.94-2.06-.94L8.5 2.5l-.94 2.06-2.06.94zm10 10l.94 2.06.94-2.06 2.06-.94-2.06-.94-.94-2.06-.94 2.06-2.06.94z\"/><path d=\"M17.41 7.96l-1.37-1.37c-.4-.4-.92-.59-1.43-.59-.52 0-1.04.2-1.43.59L10.3 9.45l-7.72 7.72c-.78.78-.78 2.05 0 2.83L4 21.41c.39.39.9.59 1.41.59.51 0 1.02-.2 1.41-.59l7.78-7.78 2.81-2.81c.8-.78.8-2.07 0-2.86zM5.41 20L4 18.59l7.72-7.72 1.47 1.35L5.41 20z\"/>\n",
              "  </svg>\n",
              "      </button>\n",
              "      \n",
              "  <style>\n",
              "    .colab-df-container {\n",
              "      display:flex;\n",
              "      flex-wrap:wrap;\n",
              "      gap: 12px;\n",
              "    }\n",
              "\n",
              "    .colab-df-convert {\n",
              "      background-color: #E8F0FE;\n",
              "      border: none;\n",
              "      border-radius: 50%;\n",
              "      cursor: pointer;\n",
              "      display: none;\n",
              "      fill: #1967D2;\n",
              "      height: 32px;\n",
              "      padding: 0 0 0 0;\n",
              "      width: 32px;\n",
              "    }\n",
              "\n",
              "    .colab-df-convert:hover {\n",
              "      background-color: #E2EBFA;\n",
              "      box-shadow: 0px 1px 2px rgba(60, 64, 67, 0.3), 0px 1px 3px 1px rgba(60, 64, 67, 0.15);\n",
              "      fill: #174EA6;\n",
              "    }\n",
              "\n",
              "    [theme=dark] .colab-df-convert {\n",
              "      background-color: #3B4455;\n",
              "      fill: #D2E3FC;\n",
              "    }\n",
              "\n",
              "    [theme=dark] .colab-df-convert:hover {\n",
              "      background-color: #434B5C;\n",
              "      box-shadow: 0px 1px 3px 1px rgba(0, 0, 0, 0.15);\n",
              "      filter: drop-shadow(0px 1px 2px rgba(0, 0, 0, 0.3));\n",
              "      fill: #FFFFFF;\n",
              "    }\n",
              "  </style>\n",
              "\n",
              "      <script>\n",
              "        const buttonEl =\n",
              "          document.querySelector('#df-22754c74-ebcc-4621-82dc-47f4f8f171f1 button.colab-df-convert');\n",
              "        buttonEl.style.display =\n",
              "          google.colab.kernel.accessAllowed ? 'block' : 'none';\n",
              "\n",
              "        async function convertToInteractive(key) {\n",
              "          const element = document.querySelector('#df-22754c74-ebcc-4621-82dc-47f4f8f171f1');\n",
              "          const dataTable =\n",
              "            await google.colab.kernel.invokeFunction('convertToInteractive',\n",
              "                                                     [key], {});\n",
              "          if (!dataTable) return;\n",
              "\n",
              "          const docLinkHtml = 'Like what you see? Visit the ' +\n",
              "            '<a target=\"_blank\" href=https://colab.research.google.com/notebooks/data_table.ipynb>data table notebook</a>'\n",
              "            + ' to learn more about interactive tables.';\n",
              "          element.innerHTML = '';\n",
              "          dataTable['output_type'] = 'display_data';\n",
              "          await google.colab.output.renderOutput(dataTable, element);\n",
              "          const docLink = document.createElement('div');\n",
              "          docLink.innerHTML = docLinkHtml;\n",
              "          element.appendChild(docLink);\n",
              "        }\n",
              "      </script>\n",
              "    </div>\n",
              "  </div>\n",
              "  "
            ],
            "text/plain": [
              "      Id                                              tweet\n",
              "0      1                         ' فينو الاهبل ابن الاهبل '\n",
              "1      2  ' على المصرييييين وجمالهم ربنا يحميهم #MinaAtt...\n",
              "2      3  ' @Kholoudkewan  دول كتير اوى ودمهم خفيف العما...\n",
              "3      4  ' انا بعد كده  خلى اللى يوعنى   بحاجه همضى على...\n",
              "4      5                                      ' انا هنتحر '\n",
              "..   ...                                                ...\n",
              "682  683                    ' كاستيلو المنتزه بقا خره نيك '\n",
              "683  684              ' @badorh666 اهم شئ ...الطاعة ..... '\n",
              "684  685  ' ايووووووووه بقى يا مينوووو وحشتنااااا #مينا_...\n",
              "685  686  ' العشرى جون #الزمالك الاول جول واحمد الله لان...\n",
              "686  687                       ' @AsmaaElwasek ازاي اسماء '\n",
              "\n",
              "[687 rows x 2 columns]"
            ]
          },
          "execution_count": 120,
          "metadata": {},
          "output_type": "execute_result"
        }
      ],
      "source": [
        "d_test = pd.read_csv(\"/content/drive/MyDrive/DEBI/uottawa/Ds applications/kaggle competition/test.csv\")\n",
        "d_test"
      ]
    },
    {
      "cell_type": "code",
      "execution_count": null,
      "metadata": {
        "id": "dE7DHp9-8D2L"
      },
      "outputs": [],
      "source": [
        "model.cpu()\n",
        "BERT_test = []\n",
        "\n",
        "for i in range(len(submit_data)):\n",
        "  out = model.forward(submit_data[i:i+1][0], attention_mask=submit_data[i:i+1][1], output_hidden_states=True)\n",
        "  Sentence_Embedding = out['hidden_states'][-1][0][0].detach().numpy()\n",
        "  BERT_test.append(Sentence_Embedding)"
      ]
    },
    {
      "cell_type": "code",
      "execution_count": null,
      "metadata": {
        "id": "R6ZNFSEA6TU7"
      },
      "outputs": [],
      "source": [
        "y_pred_final  = gnb.predict(add_padding(np.array(BERT_test)))"
      ]
    },
    {
      "cell_type": "code",
      "execution_count": null,
      "metadata": {
        "id": "6KT3gkIN--tz"
      },
      "outputs": [],
      "source": [
        "submission = pd.DataFrame({\"Id\":np.arange(1, len(y_pred_final)+1), \"class\":y_pred_final})\n",
        "# save (submission)\n",
        "submission.to_csv(\"/content/drive/MyDrive/DEBI/uottawa/Ds applications/kaggle competition/submission4.csv\", index=False)"
      ]
    },
    {
      "cell_type": "code",
      "execution_count": null,
      "metadata": {
        "colab": {
          "base_uri": "https://localhost:8080/"
        },
        "id": "6ISXauhiUSh4",
        "outputId": "8beb782c-62ad-4728-f2d7-1eaff91101fe"
      },
      "outputs": [
        {
          "name": "stderr",
          "output_type": "stream",
          "text": [
            "\rEpoch:   0%|          | 0/5 [00:00<?, ?it/s]"
          ]
        },
        {
          "name": "stdout",
          "output_type": "stream",
          "text": [
            "Train loss: 0.9377410298791425\n"
          ]
        },
        {
          "name": "stderr",
          "output_type": "stream",
          "text": [
            "\rEpoch:  20%|██        | 1/5 [01:21<05:27, 81.89s/it]"
          ]
        },
        {
          "name": "stdout",
          "output_type": "stream",
          "text": [
            "Validation Accuracy: 0.6229395604395604\n",
            "Train loss: 0.6494704225453837\n"
          ]
        },
        {
          "name": "stderr",
          "output_type": "stream",
          "text": [
            "\rEpoch:  40%|████      | 2/5 [02:47<04:12, 84.33s/it]"
          ]
        },
        {
          "name": "stdout",
          "output_type": "stream",
          "text": [
            "Validation Accuracy: 0.6092032967032966\n",
            "Train loss: 0.3438927285887044\n"
          ]
        },
        {
          "name": "stderr",
          "output_type": "stream",
          "text": [
            "\rEpoch:  60%|██████    | 3/5 [04:14<02:50, 85.32s/it]"
          ]
        },
        {
          "name": "stdout",
          "output_type": "stream",
          "text": [
            "Validation Accuracy: 0.5947802197802198\n",
            "Train loss: 0.1745320632411488\n"
          ]
        },
        {
          "name": "stderr",
          "output_type": "stream",
          "text": [
            "\rEpoch:  80%|████████  | 4/5 [05:40<01:25, 85.71s/it]"
          ]
        },
        {
          "name": "stdout",
          "output_type": "stream",
          "text": [
            "Validation Accuracy: 0.5995879120879121\n"
          ]
        }
      ],
      "source": [
        "from tqdm import tqdm, trange\n",
        "# Function to calculate the accuracy of our predictions vs labels\n",
        "def flat_accuracy(preds, labels):\n",
        "    pred_flat = np.argmax(preds, axis=1).flatten()\n",
        "    labels_flat = labels.flatten()\n",
        "    return np.sum(pred_flat == labels_flat) / len(labels_flat)\n",
        "t = []\n",
        "\n",
        "# Store our loss and accuracy for plotting\n",
        "train_loss_set = []\n",
        "\n",
        "# Number of training epochs \n",
        "epochs = 5\n",
        "\n",
        "# Transfer the model to GPU\n",
        "model.to(\"cuda\")\n",
        "\n",
        "# trange is a tqdm wrapper around the normal python range\n",
        "for _ in trange(epochs, desc=\"Epoch\"):\n",
        "  \n",
        "  \n",
        "  # Training\n",
        "  \n",
        "  # Set our model to training mode (as opposed to evaluation mode)\n",
        "  model.train()\n",
        "  \n",
        "  # Tracking variables\n",
        "  tr_loss = 0\n",
        "  nb_tr_examples, nb_tr_steps = 0, 0\n",
        "  \n",
        "  # Train the data for one epoch\n",
        "  for step, batch in enumerate(train_dataloader):\n",
        "    # Add batch to GPU\n",
        "    b_input_ids, b_input_mask, b_labels = batch\n",
        "\n",
        "    # Clear out the gradients (by default they accumulate)\n",
        "    optimizer.zero_grad()\n",
        "\n",
        "    # Forward pass\n",
        "    loss = model(b_input_ids.to(\"cuda\"), token_type_ids=None, attention_mask=b_input_mask.to(\"cuda\"), labels=b_labels.to(\"cuda\"))[\"loss\"]\n",
        "    train_loss_set.append(loss.item())\n",
        "\n",
        "    # Backward pass\n",
        "    loss.backward()\n",
        "    \n",
        "    # Update parameters and take a step using the computed gradient\n",
        "    optimizer.step()\n",
        "    \n",
        "    \n",
        "    # Update tracking variables\n",
        "    tr_loss += loss.item()\n",
        "    nb_tr_examples += b_input_ids.size(0)\n",
        "    nb_tr_steps += 1\n",
        "\n",
        "  print(\"Train loss: {}\".format(tr_loss/nb_tr_steps))\n",
        "    \n",
        "  # Validation\n",
        "\n",
        "  # Put model in evaluation mode to evaluate loss on the validation set\n",
        "  model.eval()\n",
        "\n",
        "  # Tracking variables \n",
        "  eval_loss, eval_accuracy = 0, 0\n",
        "  nb_eval_steps, nb_eval_examples = 0, 0\n",
        "\n",
        "  # Evaluate data for one epoch\n",
        "  for batch in validation_dataloader:\n",
        "    # Add batch to GPU\n",
        "    # batch = tuple(t.to(device) for t in batch)\n",
        "    # Unpack the inputs from our dataloader\n",
        "    b_input_ids, b_input_mask, b_labels = batch\n",
        "    # Telling the model not to compute or store gradients, saving memory and speeding up validation\n",
        "    with torch.no_grad():\n",
        "      # Forward pass, calculate logit predictions\n",
        "      logits = model(b_input_ids.to(\"cuda\"), token_type_ids=None, attention_mask=b_input_mask.to(\"cuda\"))\n",
        "    \n",
        "    # Move logits and labels to CPU\n",
        "    logits = logits[\"logits\"].detach().cpu().numpy()\n",
        "    label_ids = b_labels.to('cpu').numpy()\n",
        "\n",
        "    tmp_eval_accuracy = flat_accuracy(logits, label_ids)\n",
        "    \n",
        "    eval_accuracy += tmp_eval_accuracy\n",
        "    nb_eval_steps += 1\n",
        "\n",
        "  print(\"Validation Accuracy: {}\".format(eval_accuracy/nb_eval_steps))\n",
        "  "
      ]
    }
  ],
  "metadata": {
    "accelerator": "GPU",
    "colab": {
      "collapsed_sections": [],
      "name": "Copy of SentimentAnalysisArabicTweets.ipynb",
      "provenance": [],
      "toc_visible": true
    },
    "gpuClass": "standard",
    "kernelspec": {
      "display_name": "Python 3.9.7 64-bit",
      "language": "python",
      "name": "python3"
    },
    "language_info": {
      "codemirror_mode": {
        "name": "ipython",
        "version": 3
      },
      "file_extension": ".py",
      "mimetype": "text/x-python",
      "name": "python",
      "nbconvert_exporter": "python",
      "pygments_lexer": "ipython3",
      "version": "3.9.7"
    },
    "vscode": {
      "interpreter": {
        "hash": "9c95c531f64bb638245c5025a4f7238f0b408564e6b5a3de1680f033a334bc61"
      }
    }
  },
  "nbformat": 4,
  "nbformat_minor": 0
}
